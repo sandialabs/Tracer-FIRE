{
 "cells": [
  {
   "cell_type": "markdown",
   "metadata": {},
   "source": [
    "# <span style=\"font-family:Papyrus; font-size:4em; color:DarkOrange;\">Odei</span>"
   ]
  },
  {
   "cell_type": "markdown",
   "metadata": {},
   "source": [
    "## **Things to Remember:**\n",
    "\n",
    "1) Read the getting started before exploring this write-up.\n",
    "\n",
    "2) All file paths shown are based on the computer used in this write-up.\n",
    "\n",
    "3) Use the Resource page/pdf to see a list all websites and programs used in this write-up."
   ]
  },
  {
   "cell_type": "markdown",
   "metadata": {},
   "source": [
    "## <font color=Darkorange>Odei 1</font>\n",
    "\n",
    "On the morning of August 15th 2018, there was a spike in network traffic. Check your network resources. What is the IP address of the requester?  \n",
    "\n",
    "### Solution:\n",
    "\n",
    "First, take a look at the pcap files for August 15, 2018:"
   ]
  },
  {
   "cell_type": "code",
   "execution_count": 1,
   "metadata": {
    "scrolled": false
   },
   "outputs": [
    {
     "name": "stdout",
     "output_type": "stream",
     "text": [
      "\n",
      "\n",
      "    Directory: C:\\Users\\Administrator\\Artifacts\\pcaps\n",
      "\n",
      "\n",
      "Mode                LastWriteTime         Length Name                                                                  \n",
      "----                -------------         ------ ----                                                                  \n",
      "-a----        8/23/2018   3:32 PM      100003270 2018-08-15_06-22-41.pcap                                              \n",
      "-a----        8/23/2018   3:33 PM      100002467 2018-08-15_09-04-14.pcap                                              \n",
      "-a----        8/23/2018   3:33 PM      100005890 2018-08-15_09-27-04.pcap                                              \n",
      "-a----        8/23/2018   3:34 PM      100017730 2018-08-15_09-49-37.pcap                                              \n",
      "-a----        8/23/2018   3:34 PM      100000883 2018-08-15_10-11-46.pcap                                              \n",
      "-a----        8/23/2018   3:35 PM      100000004 2018-08-15_10-51-33.pcap                                              \n",
      "-a----        8/23/2018   3:36 PM      100000736 2018-08-15_12-02-09.pcap                                              \n",
      "-a----        8/23/2018   3:36 PM      100000312 2018-08-15_12-07-10.pcap                                              \n",
      "-a----        8/23/2018   3:37 PM      100000314 2018-08-15_12-19-00.pcap                                              \n",
      "-a----        8/23/2018   3:37 PM      100000484 2018-08-15_12-31-32.pcap                                              \n",
      "-a----        8/23/2018   3:38 PM      100000240 2018-08-15_12-44-14.pcap                                              \n",
      "-a----        8/23/2018   3:39 PM      100001528 2018-08-15_13-09-10.pcap                                              \n",
      "-a----        8/23/2018   3:39 PM      100000758 2018-08-15_14-16-10.pcap                                              \n",
      "\n",
      "\n"
     ]
    }
   ],
   "source": [
    "Get-ChildItem -path \"..\\pcaps\\\" -Recurse -Filter \"*2018-08-15*\""
   ]
  },
  {
   "cell_type": "markdown",
   "metadata": {},
   "source": [
    "Let's merge the pcap files to make filtering easier:"
   ]
  },
  {
   "cell_type": "code",
   "execution_count": 1,
   "metadata": {},
   "outputs": [
    {
     "name": "stdout",
     "output_type": "stream",
     "text": [
      "Complete\n"
     ]
    }
   ],
   "source": [
    "Set-Alias -Name merge -Value \"C:\\Program Files\\Wireshark\\mergecap.exe\" | Out-Null\n",
    "Set-Alias -Name tshark -Value \"C:\\Program Files\\Wireshark\\tshark.exe\" | Out-Null\n",
    "\n",
    "merge -F pcap -w ..\\pcaps\\8_15_morning_merge.pcap ..\\pcaps\\2018-08-15_06-22-41.pcap ..\\pcaps\\2018-08-15_09-04-14.pcap ..\\pcaps\\2018-08-15_09-27-04.pcap ..\\pcaps\\2018-08-15_09-49-37.pcap ..\\pcaps\\2018-08-15_10-11-46.pcap ..\\pcaps\\2018-08-15_10-51-33.pcap\n",
    "write-host \"Complete\""
   ]
  },
  {
   "cell_type": "markdown",
   "metadata": {},
   "source": [
    "Open the merged morning pcap file in Wireshark. The question is asking for the IP of the requester that caused a spike in network traffic. Wireshark has a feature called conversations under the statistics tab. In the context of the question, conversations are important because the requester IP seems to have caused a spike in traffic. Conversations allows you to analyze the total packet transfers between two IP addresses. \n",
    "\n",
    "![Odei](pics/Odei1-1.png)\n",
    "\n",
    "Conversations has multiple tabs, but by looking at the number of packets in the IPv4 and IPv6 tabs, it can be deduced that this attack probably used IPv4 because of the large number of items inside it.\n",
    "\n",
    "Inside the IPv4 tab, filter the content by largest packets. This will organize the data to show which conversation had the most packets transfered and in turn help show what would have caused a spike in traffic. \n",
    "\n",
    "![Odei](pics/Odei1-2.png)\n",
    "\n",
    "The largest amount of packets was transfered between Address A (5.101.80.28) and Address B (192.168.1.23). Referencing the network diagram for the competition, Address B (192.168.1.23) is the Orko Billpayer Site (Windows Server 2016). That leaves Address A (5.101.80.28) as the answer. \n",
    "\n",
    "#### Answer: 5.101.80.28 "
   ]
  },
  {
   "cell_type": "markdown",
   "metadata": {},
   "source": [
    "## <font color=Darkorange>Odei 2</font>\n",
    "\n",
    "What internal IP address was being consistently visited?\n",
    "\n",
    "### Solution:\n",
    "\n",
    "Continue in the same merged morning pcap file. Go to **statistics>Endpoints**. In Endpoints click **IPv4** and organize it by **Bytes**.\n",
    "\n",
    "![Odei](pics/Odei2-1.png)\n",
    "\n",
    "Notice the IP address with the most visits is **192.168.1.23**.\n",
    "\n",
    "#### Answer: 192.168.1.23"
   ]
  },
  {
   "cell_type": "markdown",
   "metadata": {},
   "source": [
    "## <font color=Darkorange>Odei 3</font>\n",
    "\n",
    "What is the external IP of this website?\n",
    "\n",
    "### Solution:\n",
    "\n",
    "From Odei 1, its known that the source IP Address is **5.101.80.28** and from the question its known that this source IP address is probably requesting data from this external IP. Continue in the merged morning pcap and filter by **ip.addr == 5.101.80.28 && http.request.method == GET** and by looking specifically at the **http.host** field. \n"
   ]
  },
  {
   "cell_type": "code",
   "execution_count": 12,
   "metadata": {
    "scrolled": false
   },
   "outputs": [
    {
     "name": "stdout",
     "output_type": "stream",
     "text": [
      "50.0.0.245\n",
      "50.0.0.245\n",
      "50.0.0.245\n",
      "50.0.0.245\n",
      "50.0.0.245\n",
      "50.0.0.245\n",
      "50.0.0.245\n",
      "50.0.0.245\n",
      "50.0.0.245\n",
      "50.0.0.245\n"
     ]
    }
   ],
   "source": [
    "Set-Alias -Name tshark -Value \"C:\\Program Files\\Wireshark\\tshark.exe\"\n",
    "tshark -r \"C:\\Users\\Administrator\\Artifacts\\pcaps\\8_15_morning_merge.pcap\" -Y \"ip.addr == 5.101.80.28 && http.request.method == GET\" -T \"fields\" -e \"http.host\" > \"C:\\Users\\Administrator\\Artifacts\\pcaps\\output1.txt\"\n",
    "Get-Content \"C:\\Users\\Administrator\\Artifacts\\pcaps\\output1.txt\" -First 10"
   ]
  },
  {
   "cell_type": "markdown",
   "metadata": {},
   "source": [
    "\n",
    "\n",
    "#### Answer: 50.0.0.245"
   ]
  },
  {
   "cell_type": "markdown",
   "metadata": {},
   "source": [
    "## <font color=Darkorange>Odei 4</font>\n",
    "\n",
    "The requester tried getting account info for several user names. What is the first username they requested?\n",
    "\n",
    "### Solution:\n",
    "\n",
    "From Odei 1, it's known that the requesters IP address is **5.101.80.28**. From the context of the question, it's known that the username was requested by this IP, so it probably used a GET request. \n",
    "\n",
    "Continue in the merged morning pcap file and filter again by **ip.addr == 5.101.80.28 && http.request.method == GET.**.\n",
    "\n",
    "![Odei](pics/Odei3-1.png)\n",
    "\n",
    "Look in the info column and notice that multiple packets are requesting account info for **blah**.\n",
    "\n",
    "![Odei](pics/Odei8.png)\n",
    "\n",
    "#### Answer: blah"
   ]
  },
  {
   "cell_type": "markdown",
   "metadata": {},
   "source": [
    "## <font color=Darkorange>Odei 5</font>\n",
    "\n",
    "What is the content type of the returned data from the URL that is consistently hit by the requester?\n",
    "\n",
    "### Solution:\n",
    "\n",
    "It's known from Odei 1 that the IP address **5.101.80.28** is being used by the hacker and it can be deduced that this IP is most likely the destination.\n",
    "\n",
    "![Odei](pics/Odei5-4.png)\n",
    "\n",
    "Filtering by **ip.dst==5.101.80.28** results in over 72,000 packets, additional filtering is needed. The question is asking for the \"content type\" of the returned data. Filtering by the IP destination (**ip.dst==5.101.80.28**) and content type (**http.content_type**) results in a little over 6000 packets.\n",
    "\n",
    "![Odei](pics/Odei5-5.png)\n",
    "\n",
    "It's known from the question that this content type is being returned by a URL that is consistently hit by the requester. With that knowledge, organize the packets by the **info** column. This displays data a few different contents types, but primary **application/pdf**. \n",
    "\n",
    "![Odei](pics/Odei5-6.png)\n",
    "\n",
    "\n",
    "\n",
    "#### Answer: application/pdf"
   ]
  },
  {
   "cell_type": "markdown",
   "metadata": {},
   "source": [
    "## <font color=Darkorange>Odei 6</font>\n",
    "\n",
    "What is the the full request URL to get the PDF for user 1's bill?\n",
    "\n",
    "### Solution:\n",
    "\n",
    "Starting from Odei 5, it's already known that PDFs have been uploaded and that these packets have a Request URI where packets are being delivered to.  \n",
    "\n",
    "![Odei](pics/Odei5-6.png)\n",
    "\n",
    "Examining the Request URIs from the application/pdfs, notice a full request URL of **http://50.0.0.245/Account/GetBillPdf?billHeaderId=1**.\n",
    "\n",
    "\n",
    "#### Answer: http://50.0.0.245/Account/GetBillPdf?billHeaderId=1\n"
   ]
  },
  {
   "cell_type": "markdown",
   "metadata": {},
   "source": [
    "## <font color=Darkorange>Odei 7</font>\n",
    "\n",
    "What did the attacker use to exfiltrate the PDFs?\n",
    "\n",
    "### Solution:\n",
    "\n",
    "It's known from Odei 1 that the attacker uses the IP **5.101.80.28** and that the full request URL is **http://50.0.0.245/Account/GetBillPdf?billHeaderId=1** to get the PDFs. \n",
    "\n",
    "Continue in the merged morning pcap file with the filter **ip.addr==5.101.80.28 && http.request.full_uri == \"http://50.0.0.245/Account/GetBillPdf?billHeaderId=1\"**. This filters the content down to 11 packets.\n",
    "\n",
    "\n",
    "![Odei](pics/Odei7-1.png)\n",
    "\n",
    "The question wants to know what the attacker used to exfiltrate the PDFs. When examining the filtered packets, locate the **user-agent** field under the Hypertext drop-down. This field will list the software (a software agent) that is acting on behalf of a user to send data. A few of the packet have a user agent of Mozilla, which is Firefox. However, the other packets have a user agent of Python-Requests. Knowing that Firefox is used for typical browsing purposes, it can be deduced that **python-requests** is what the attacker used to exfiltrate the PDFs.\n",
    "\n",
    "![Odei](pics/Odei7-2.png)\n",
    "\n",
    "#### Answer: python-requests"
   ]
  },
  {
   "cell_type": "markdown",
   "metadata": {},
   "source": [
    "## <font color=Darkorange>Odei 8</font>\n",
    "\n",
    "After the attacker exfiltrated the PDFs, the requester visited another URL that allowed them to access more personal information (such as SSN) from all of the users. What is the URL?\n",
    "\n",
    "### Solution:\n",
    "\n",
    "It's known from the question that the attacker (5.101.80.28) visited the URL after exfiltrating the PDFs that were listed in Odei 5. \n",
    "\n",
    "Continue in the merged morning pcap file and filter by the attackers IP and the GET request method: **ip.addr==5.101.80.28 && http.request.method == GET**. Since the attacker visited this URL after exfiltrating the PDF files, organize the filtered content by the time column.\n",
    "\n",
    "![Odei](pics/Odei8-1.png)\n",
    "\n",
    "The only entry past the PDF exfiltrations is **/account/getcustomerinfo**. Locate the URL by clicking on this packet and navigating to the drop-down **Hyptertext Transfer Protocol**. From there the full request URI is **http://50.0.0.245/account/getcustomerinfo**.\n",
    "\n",
    "![Odei](pics/Odei8-2.png)\n",
    "\n",
    "Since this get request is made by the attacker after the PDF file exfiltration, it can be deduced that this is the URL the attacker visited. \n",
    "\n",
    "\n",
    "#### Answer: http://50.0.0.245/account/getcustomerinfo"
   ]
  },
  {
   "cell_type": "markdown",
   "metadata": {},
   "source": [
    "\n",
    "## <font color=Darkorange>Odei 9</font>\n",
    "\n",
    "What data type was returned from the last attack?\n",
    "\n",
    "### Solution:\n",
    "\n",
    "Starting from the same packet from Odei 8 with the URL http://50.0.0.245/account/getcustomerinfo, right click and follow the TCP Stream. The TCP stream is needed because it logs streams of data between connections during a transfer. Since the question is asking for the data type that was returned, the stream should provide this information.\n",
    "\n",
    "![Odei](pics/Odei9-1.png)\n",
    "\n",
    "The top red text shows the get request from the attacker. The blue text shows what is returned from the host machine. In the blue text there is a field called **content-type**. This field displays what type of data was returned to the host. In this case that field shows **application/json**. Since the question is asking what data type was sent back, it can be deduced that **json** is the data type.\n",
    "\n",
    "#### Answer: json\n"
   ]
  },
  {
   "cell_type": "markdown",
   "metadata": {},
   "source": [
    "## <font color=Darkorange>Odei 10</font>\n",
    "\n",
    "What is Amaya Labankada’s unique id within the customer data?\n",
    "\n",
    "### Solution:\n",
    "\n",
    "Continue in the TCP stream from Odei 9. It's known that the data is formatted in JSON from Odei 9. Scrolling through the TCP stream, you'll notice usernames, email addresses, and much more. Use the find option in the TCP stream window to search for Amaya. This search shows a json package with Amaya's data and a field called **id**. This field contains the ID **ff060f77-5203-4d4e-90b3-8329154cb023**. It can be deduced that this is the unique identifier for Amaya.\n",
    "\n",
    "![Odei](pics/Odei19.png)\n",
    "\n",
    "#### Answer:  ff060f77-5203-4d4e-90b3-8329154cb023"
   ]
  }
 ],
 "metadata": {
  "kernelspec": {
   "display_name": "PowerShell",
   "language": "powershell",
   "name": "powershell"
  },
  "language_info": {
   "codemirror_mode": "shell",
   "file_extension": ".ps1",
   "mimetype": "text/x-sh",
   "name": "powershell"
  }
 },
 "nbformat": 4,
 "nbformat_minor": 2
}
