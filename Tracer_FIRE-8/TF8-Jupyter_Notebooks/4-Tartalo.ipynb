{
 "cells": [
  {
   "cell_type": "markdown",
   "metadata": {},
   "source": [
    "# <span style=\"font-family:Papyrus; font-size:4em; color:Red;\">Tartalo</span>"
   ]
  },
  {
   "cell_type": "markdown",
   "metadata": {},
   "source": [
    "## **Things to Remember:**\n",
    "\n",
    "1) Read the getting started before reading this write-up.\n",
    "\n",
    "2) All file paths shown are based on the computer used in this write-up.\n",
    "\n",
    "3) Use the Resource page/pdf to see a list all websites and programs used in this write-up."
   ]
  },
  {
   "cell_type": "markdown",
   "metadata": {},
   "source": [
    "## <font color=red>Tartalo 1</font>\n",
    "\n",
    "A sample quote for a server order was sent to Amaya around 1:20PM PDT on August 21, 2018. What is the email address of the sender?\n",
    "\n",
    "### Solution Walk Through:\n",
    "The SMTP file names are in epoch time. Converting to August 21st close to the time of 1:20 PM results in 1534880000. Use Epoch Converter: https://www.epochconverter.com/timezones?q=1534880000&tz=America%2FLos_Angeles. Due to emails with attachments being larger than emails without attachments, sort by size descending."
   ]
  },
  {
   "cell_type": "code",
   "execution_count": 1,
   "metadata": {},
   "outputs": [
    {
     "name": "stdout",
     "output_type": "stream",
     "text": [
      "\n",
      "\n",
      "    Directory: Z:\\TF8\\Artifacts\\smtp\\alabank\n",
      "\n",
      "\n",
      "Mode                LastWriteTime     Length Name                              \n",
      "----                -------------     ------ ----                              \n",
      "-----         8/23/2018  10:58 PM      94543 1534885413                        \n",
      "-----         8/23/2018  10:58 PM      48731 1534887908                        \n",
      "-----         8/23/2018  10:58 PM      48266 1534886499                        \n",
      "-----         8/23/2018  10:58 PM       3636 1534885750                        \n",
      "-----         8/23/2018  10:58 PM       2245 1534884720                        \n",
      "-----         8/23/2018  10:58 PM       2002 1534888441                        \n",
      "-----         8/23/2018  10:58 PM       1759 1534883251                        \n",
      "-----         8/23/2018  10:58 PM       1490 1534886896                        \n",
      "-----         8/23/2018  10:58 PM       1087 1534880910                        \n",
      "\n",
      "\n"
     ]
    }
   ],
   "source": [
    "Get-ChildItem -Path ..\\smtp\\alabank -Filter 153488* | Sort-Object Length -Descending "
   ]
  },
  {
   "cell_type": "markdown",
   "metadata": {},
   "source": [
    "Read the largest email. This one has an attachment, TCinc_Invoice_20170-4072-00.pdf from the email address trashyourcomputers@tcinc.com"
   ]
  },
  {
   "cell_type": "code",
   "execution_count": 2,
   "metadata": {},
   "outputs": [
    {
     "name": "stdout",
     "output_type": "stream",
     "text": [
      "Return-Path: <trashyourcomputers@tcinc.com>\n",
      "Delivered-To: alabank@orko.net\n",
      "Received: from mail.nimbus.net (unknown [52.95.251.10])\n",
      "\tby mail.orko.net (Postfix) with ESMTPS id 90AA417E82A\n",
      "\tfor <alabank@orko.net>; Tue, 21 Aug 2018 14:03:33 -0700 (PDT)\n",
      "Received: from _ (localhost [127.0.0.1])\n",
      "\tby mail.nimbus.net (Postfix) with ESMTPSA id 8D908181DFD\n",
      "\tfor <alabank@orko.net>; Tue, 21 Aug 2018 17:02:08 -0400 (EDT)\n",
      "MIME-Version: 1.0\n",
      "Content-Type: multipart/mixed;\n",
      " boundary=\"=_23a9f12f02b21a258733d52cb0faa093\"\n",
      "Date: Tue, 21 Aug 2018 17:02:08 -0400\n",
      "From: trashyourcomputers@tcinc.com\n",
      "To: alabank@orko.net\n",
      "Subject: Re: BUYERS BEWARE!\n",
      "In-Reply-To: <9745b7e341e093f85322a8e3cd92dd0c@orko.net>\n",
      "References: <c9de5cb3cc614592a0e2bf4172c05ad5@tcinc.com>\n",
      " <bae4fefcb7ace604843f54edd37ef322@orko.net>\n",
      " <73b06f11931f0cd03c25732d08b2f76b@tcinc.com>\n",
      " <26833fa616675ab8d48fd9c1523457f3@orko.net>\n",
      " <c777ffeec1e18ce40fe053a383381883@orko.net>\n",
      " <9745b7e341e093f85322a8e3cd92dd0c@orko.net>\n",
      "Message-ID: <e8ea9d80e057d713d9dcbe734d45efd3@tcinc.com>\n",
      "X-Sender: trashyourcomputers@tcinc.com\n",
      "User-Agent: Roundcube Webmail\n",
      "\n",
      "--=_23a9f12f02b21a258733d52cb0faa093\n",
      "Content-Transfer-Encoding: 7bit\n",
      "Content-Type: text/plain; charset=US-ASCII;\n",
      " format=flowed\n",
      "\n",
      "On 2018-08-21 16:56, alabank@orko.net wrote:\n",
      "> On 2018-08-21 13:52, asarea@orko.net wrote:\n",
      ">> On 2018-08-21 13:31, alabank@orko.net wrote:\n",
      ">>> On 2018-08-21 13:26, trashyourcomputers@tcinc.com wrote:\n",
      ">>>> On 2018-08-21 16:21, alabank@orko.net wrote:\n",
      ">>>>> On 2018-08-21 12:47, trashyourcomputers@tcinc.com wrote:\n",
      ">>>>>> Hello Prestigious Customer,\n",
      ">>>>>> \n",
      ">>>>>> Considering you are on our preffered customer list... We want you \n",
      ">>>>>> to\n",
      ">>>>>> BEWARE as we have some CRAZY prices coming down on our products \n",
      ">>>>>> here\n",
      ">>>>>> at Trash Computers! Our sale will be ongoing for the next week so \n",
      ">>>>>> get\n",
      ">>>>>> your computers here at Trash Computers!\n",
      ">>>>>> \n",
      ">>>>>> Jimmy,\n",
      ">>>>>> TrashComputers\n",
      ">>>>>> Marketing Division\n",
      ">>>>> \n",
      ">>>>> Jimmy,\n",
      ">>>>> \n",
      ">>>>> We are looking for to price out a new server. Can you send me a \n",
      ">>>>> sample quote?\n",
      ">>>> \n",
      ">>>> Hi Amaya,\n",
      ">>>> \n",
      ">>>> Well, we have a lot of servers at Trash Computers. Your quote will\n",
      ">>>> definitely be determined based off of what trash you are looking \n",
      ">>>> for!\n",
      ">>>> Can you please specify what you are looking for and we can see what \n",
      ">>>> we\n",
      ">>>> can provide?\n",
      ">>>> \n",
      ">>>> Jimmy,\n",
      ">>>> Trash Computers\n",
      ">>>> Marketing Division\n",
      ">>> \n",
      ">>> Antton, what are the specifications for the new server we need for \n",
      ">>> our\n",
      ">>> Space Fish project to support the new PPD41 requirements?\n",
      ">> \n",
      ">> We are going to need quite a bit of computing power for the Space\n",
      ">> Fish, and if we secure the extra funding we are going to need the\n",
      ">> ability to extend this quite a bit. I'd suggest ordering some\n",
      ">> PowerEdge R940xa machines... we will probably need about 2 of them. To\n",
      ">> support ourselves currently.\n",
      "> \n",
      "> Hi Jimmy,\n",
      "> \n",
      "> We would like to order 20 PowerEdge R940xa machines. Could you provide\n",
      "> a quote for these?\n",
      "\n",
      "Hi Amaya,\n",
      "\n",
      "Certainly! 20 is quite a large order and we will be happy to provide you \n",
      "wish some trash computers. Please note the quote on these machines is \n",
      "only available today so quickly send over the funding to our business \n",
      "partner at 505-867-5309 and we will start your order!\n",
      "\n",
      "Jimmy,\n",
      "Trash Computers\n",
      "Marketing Division\n",
      "--=_23a9f12f02b21a258733d52cb0faa093\n",
      "Content-Transfer-Encoding: base64\n",
      "Content-Type: application/pdf;\n",
      " name=TCinc_Invoice_20170-4072-00.pdf\n",
      "Content-Disposition: attachment;\n",
      " filename=TCinc_Invoice_20170-4072-00.pdf;\n"
     ]
    }
   ],
   "source": [
    "Get-Content ..\\smtp\\alabank\\1534885413 -First 100"
   ]
  },
  {
   "cell_type": "markdown",
   "metadata": {},
   "source": [
    "#### Answer:  trashyourcomputers@tcinc.com"
   ]
  },
  {
   "cell_type": "markdown",
   "metadata": {},
   "source": [
    "## <font color=red>Tartalo 2</font>\n",
    "\n",
    "What PDF editor tool was used to craft this PDF?\n",
    "\n",
    "### Solution Walk Through:"
   ]
  },
  {
   "cell_type": "markdown",
   "metadata": {},
   "source": [
    "From the question above, 1534885413 has the attached PDF."
   ]
  },
  {
   "cell_type": "code",
   "execution_count": 3,
   "metadata": {},
   "outputs": [
    {
     "name": "stdout",
     "output_type": "stream",
     "text": [
      "Return-Path: <trashyourcomputers@tcinc.com>\n",
      "Delivered-To: alabank@orko.net\n",
      "Received: from mail.nimbus.net (unknown [52.95.251.10])\n",
      "\tby mail.orko.net (Postfix) with ESMTPS id 90AA417E82A\n",
      "\tfor <alabank@orko.net>; Tue, 21 Aug 2018 14:03:33 -0700 (PDT)\n",
      "Received: from _ (localhost [127.0.0.1])\n",
      "\tby mail.nimbus.net (Postfix) with ESMTPSA id 8D908181DFD\n",
      "\tfor <alabank@orko.net>; Tue, 21 Aug 2018 17:02:08 -0400 (EDT)\n",
      "MIME-Version: 1.0\n",
      "Content-Type: multipart/mixed;\n",
      " boundary=\"=_23a9f12f02b21a258733d52cb0faa093\"\n",
      "Date: Tue, 21 Aug 2018 17:02:08 -0400\n",
      "From: trashyourcomputers@tcinc.com\n",
      "To: alabank@orko.net\n",
      "Subject: Re: BUYERS BEWARE!\n",
      "In-Reply-To: <9745b7e341e093f85322a8e3cd92dd0c@orko.net>\n",
      "References: <c9de5cb3cc614592a0e2bf4172c05ad5@tcinc.com>\n",
      " <bae4fefcb7ace604843f54edd37ef322@orko.net>\n",
      " <73b06f11931f0cd03c25732d08b2f76b@tcinc.com>\n",
      " <26833fa616675ab8d48fd9c1523457f3@orko.net>\n",
      " <c777ffeec1e18ce40fe053a383381883@orko.net>\n",
      " <9745b7e341e093f85322a8e3cd92dd0c@orko.net>\n",
      "Message-ID: <e8ea9d80e057d713d9dcbe734d45efd3@tcinc.com>\n",
      "X-Sender: trashyourcomputers@tcinc.com\n",
      "User-Agent: Roundcube Webmail\n",
      "\n",
      "--=_23a9f12f02b21a258733d52cb0faa093\n",
      "Content-Transfer-Encoding: 7bit\n",
      "Content-Type: text/plain; charset=US-ASCII;\n",
      " format=flowed\n"
     ]
    }
   ],
   "source": [
    "Get-Content ..\\smtp\\alabank\\1534885413 -First 30"
   ]
  },
  {
   "cell_type": "markdown",
   "metadata": {},
   "source": [
    "---\n",
    "Carve out the PDF using carve.py. This python script will carve out pieces of an smtp file and dump it in the current directory.\n",
    "\n",
    "---"
   ]
  },
  {
   "cell_type": "code",
   "execution_count": 1,
   "metadata": {},
   "outputs": [
    {
     "name": "stdout",
     "output_type": "stream",
     "text": [
      "[+] Email part ID 0: None\n",
      "==> Content Type: multipart/mixed\n",
      "\n",
      "[+] Email part ID 1: None\n",
      "==> Content Length in bytes: 2083\n",
      "==> Content Type: text/plain\n",
      "\n",
      "[+] Email part ID 2: TCinc_Invoice_20170-4072-00.pdf\n",
      "==> Content Length in bytes: 67338\n",
      "==> Content Type: application/pdf\n",
      "\n"
     ]
    }
   ],
   "source": [
    "python \"..\\..\\carve.py\" \"..\\smtp\\alabank\\1534885413\""
   ]
  },
  {
   "cell_type": "code",
   "execution_count": 2,
   "metadata": {},
   "outputs": [
    {
     "name": "stdout",
     "output_type": "stream",
     "text": [
      "[+] Email part ID 0: None\n",
      "==> Content Type: multipart/mixed\n",
      "\n",
      "[+] Email part ID 1: None\n",
      "==> Content Length in bytes: 2083\n",
      "==> Content Type: text/plain\n",
      "\n",
      "[+] Email part ID 2: TCinc_Invoice_20170-4072-00.pdf\n",
      "==> Content Length in bytes: 67338\n",
      "==> Content Type: application/pdf\n",
      "\n",
      "Dumping email part ID 2 with filename TCinc_Invoice_20170-4072-00.pdf...\n",
      "Successfully dumped file TCinc_Invoice_20170-4072-00.pdf\n"
     ]
    }
   ],
   "source": [
    "python \"..\\..\\carve.py\" \"..\\smtp\\alabank\\1534885413\" 2"
   ]
  },
  {
   "cell_type": "markdown",
   "metadata": {},
   "source": [
    "---\n",
    "From a google search online, the XML meta tag in PDF files for the editor tool used is <pdf: Producer>. \n",
    "\n",
    "---"
   ]
  },
  {
   "cell_type": "code",
   "execution_count": 3,
   "metadata": {},
   "outputs": [
    {
     "name": "stdout",
     "output_type": "stream",
     "text": [
      "<pdf:Producer>Foxit PhantomPDF Printer Version 9.1.0.0531</pdf:Producer>\n"
     ]
    }
   ],
   "source": [
    "strings .\\TCinc_Invoice_20170-4072-00.pdf | findstr /i Producer"
   ]
  },
  {
   "cell_type": "markdown",
   "metadata": {},
   "source": [
    "Another option is to open the PDF in Adobe Acrobat and check the metadata properties.\n",
    "\n",
    "#### Answer: Foxit PhantomPDF"
   ]
  },
  {
   "cell_type": "markdown",
   "metadata": {},
   "source": [
    "## <font color=red>Tartalo 3</font>\n",
    "\n",
    "What was the URL that one of the PDFs tried to reach out to?\n",
    "\n",
    "### Solution Walk Through:"
   ]
  },
  {
   "cell_type": "markdown",
   "metadata": {},
   "source": [
    "In email `1534886896` Amaya emailed Jimmy from Trash Your Computers letting him know that she could not open the pdf that he sent. This was in response to the pdf sent in `1534886499`. The assumption is that maybe she tried logging into the pdf and it reached out to a specific address. There are 3 pcap files from 8/21/2018. Wireshark has a tool called mergecap which can merge pcap files that way they can be viewed together as opposed to individually.\n",
    "\n",
    "---"
   ]
  },
  {
   "cell_type": "code",
   "execution_count": 1,
   "metadata": {},
   "outputs": [
    {
     "name": "stdout",
     "output_type": "stream",
     "text": []
    }
   ],
   "source": [
    "mergecap -a -w \"08-21-2018.pcap\" \"..\\pcaps\\2018-08-21_02-26-57.pcap\" \"..\\pcaps\\2018-08-21_12-18-14.pcap\" \"..\\pcaps\\2018-08-21_21-25-10.pcap\""
   ]
  },
  {
   "cell_type": "markdown",
   "metadata": {},
   "source": [
    "---\n",
    "The merged pcap can then be analyzed to see where the pdf might have tried reaching out to. The below tshark example will display the full uri and time of pcap. \n",
    "The filters include:\n",
    "- IP Source of 192.168.1.11\n",
    "- Request method of GET\n",
    "- Frame time >= 8/21/2018 14:20\n",
    "- Frame time <= 8/21/2018 14:30\n",
    "\n",
    "The specific frame time was based on the second pdf being sent at 14:21 and Amaya responding at 14:26 in email `1534886896` that she couldn't log in to the pdf. Seems a bit odd that one would 'log in' to a pdf.\n",
    "\n",
    "---"
   ]
  },
  {
   "cell_type": "code",
   "execution_count": 1,
   "metadata": {},
   "outputs": [
    {
     "name": "stdout",
     "output_type": "stream",
     "text": [
      "http://12.33.44.77/ Aug 21, 2018 14:20:59.373291000 Pacific Daylight Time\n",
      "http://acroipm2.adobe.com/18/rdr/ENU/win/nooem/none/consumer/message.zip Aug 21, 2018 14:24:07.048948000 Pacific Daylight Time\n",
      "http://12.33.55.12/login.jar Aug 21, 2018 14:24:23.974425000 Pacific Daylight Time\n",
      "http://12.33.55.12/favicon.ico Aug 21, 2018 14:24:24.091582000 Pacific Daylight Time\n",
      "http://12.33.44.77/ Aug 21, 2018 14:25:59.388505000 Pacific Daylight Time\n"
     ]
    }
   ],
   "source": [
    "tshark -r 08-21-2018.pcap -T fields -E separator=' | ' -e http.request.full_uri -e frame.time -Y \"ip.src == 192.168.1.11 && http.request.method == GET && frame.time >= \\\"\"Aug 21, 2018 14:20:00.000\\\"\" && frame.time <= \\\"\"Aug 21, 2018 14:30:00.000\\\"\"\""
   ]
  },
  {
   "cell_type": "markdown",
   "metadata": {},
   "source": [
    "---\n",
    "In looking at data above, there is a call to http://12.33.55.12/login.jar on August 21st, 2018 at 14:24 and based on Amaya's email about not being able to log in, this looks to be correct.\n",
    "\n",
    "---"
   ]
  },
  {
   "cell_type": "markdown",
   "metadata": {},
   "source": [
    "#### Answer: http://12.33.55.12/login.jar"
   ]
  },
  {
   "cell_type": "markdown",
   "metadata": {},
   "source": [
    "## <font color=red>Tartalo 4</font>\n",
    "\n",
    "What is the md5sum of the first PDF sent from Trash Your Computers Inc.?\n",
    "\n",
    "### Solution Walk Through:\n",
    "The same file from question 1, has already been carved out of the smtp session."
   ]
  },
  {
   "cell_type": "code",
   "execution_count": 5,
   "metadata": {},
   "outputs": [
    {
     "name": "stdout",
     "output_type": "stream",
     "text": [
      "\n",
      "Algorithm       Hash                                                           \n",
      "---------       ----                                                           \n",
      "MD5             E20FF8395929FD5CF6B8A8417951CC56                               \n",
      "\n",
      "\n"
     ]
    }
   ],
   "source": [
    "get-filehash TCinc_Invoice_20170-4072-00.pdf -algorithm md5"
   ]
  },
  {
   "cell_type": "markdown",
   "metadata": {},
   "source": [
    "#### Answer: E20FF8395929FD5CF6B8A8417951CC56"
   ]
  },
  {
   "cell_type": "markdown",
   "metadata": {},
   "source": [
    "## <font color=red>Tartalo 5</font>\n",
    "\n",
    "A second email with another PDF was sent soon after the first one. What is the md5sum of the second PDF sent from Trash Your Computers Inc.?\n",
    "\n",
    "### Solution Walk Through:\n",
    "Instead of going through the list of big smtp files from the first question to find a PDF, strings on the smtp folder is probably the best bet."
   ]
  },
  {
   "cell_type": "code",
   "execution_count": 10,
   "metadata": {},
   "outputs": [
    {
     "name": "stdout",
     "output_type": "stream",
     "text": [
      "Z:\\TF8\\Artifacts\\smtp\\alabank\\1533671668: Content-Type: application/pdf;\n",
      "Z:\\TF8\\Artifacts\\smtp\\alabank\\1534885413: Content-Type: application/pdf;\n",
      "Z:\\TF8\\Artifacts\\smtp\\alabank\\1534887908: Content-Type: application/pdf;\n",
      "Z:\\TF8\\Artifacts\\smtp\\alabank\\1534886499: Content-Type: application/pdf;\n"
     ]
    }
   ],
   "source": [
    "strings -s ..\\smtp\\alabank | findstr /i \"application/pdf\""
   ]
  },
  {
   "cell_type": "markdown",
   "metadata": {},
   "source": [
    "---\n",
    "Given the time of the emails, convert from epoch time, and `1534886499` came after to `1534885413` but before `1534887908`.\n",
    "\n",
    "---"
   ]
  },
  {
   "cell_type": "code",
   "execution_count": 14,
   "metadata": {},
   "outputs": [
    {
     "name": "stdout",
     "output_type": "stream",
     "text": [
      "Return-Path: <trashyourcomputers@tcinc.com>\n",
      "Delivered-To: alabank@orko.net\n",
      "Received: from mail.nimbus.net (unknown [52.95.251.10])\n",
      "\tby mail.orko.net (Postfix) with ESMTPS id 7CF2717E82A\n",
      "\tfor <alabank@orko.net>; Tue, 21 Aug 2018 14:21:39 -0700 (PDT)\n",
      "Received: from _ (localhost [127.0.0.1])\n",
      "\tby mail.nimbus.net (Postfix) with ESMTPSA id 1FDC5181DF7\n",
      "\tfor <alabank@orko.net>; Tue, 21 Aug 2018 17:20:13 -0400 (EDT)\n",
      "MIME-Version: 1.0\n",
      "Content-Type: multipart/mixed;\n",
      " boundary=\"=_d39e727b93e8445463c738e317084698\"\n",
      "Date: Tue, 21 Aug 2018 17:20:13 -0400\n",
      "From: trashyourcomputers@tcinc.com\n",
      "To: alabank@orko.net\n",
      "Subject: UPDATE: INVOICE NEW\n",
      "Message-ID: <daddf622ce31afcb3bdc559e59dc6aec@tcinc.com>\n",
      "X-Sender: trashyourcomputers@tcinc.com\n",
      "User-Agent: Roundcube Webmail\n",
      "\n",
      "--=_d39e727b93e8445463c738e317084698\n",
      "Content-Transfer-Encoding: 7bit\n",
      "Content-Type: text/plain; charset=US-ASCII;\n",
      " format=flowed\n",
      "\n",
      "Hi alabank,\n",
      "\n",
      "Kindly view your new updated invoice. It new better view now. This in \n",
      "regards to invoice 1201-19219-129\n",
      "\n",
      "Jimmy,\n",
      "Trash Computers\n",
      "Marketing Division\n",
      "--=_d39e727b93e8445463c738e317084698\n",
      "Content-Transfer-Encoding: base64\n",
      "Content-Type: application/pdf;\n",
      " name=TCinc_Invoice.pdf\n",
      "Content-Disposition: attachment;\n",
      " filename=TCinc_Invoice.pdf;\n",
      " size=34776\n",
      "\n",
      "JVBERi0xLjcNCiWhs8XXDQoxIDAgb2JqDQo8PC9BY3JvRm9ybSAxMSAwIFIgL1BhZ2VzIDIgMCBS\n",
      "IC9UeXBlL0NhdGFsb2cvTWV0YWRhdGEgNTMgMCBSID4+DQplbmRvYmoNCjQgMCBvYmoNCjw8L1Jl\n",
      "c291cmNlcyA3IDAgUiAvTWVkaWFCb3hbIDAgMCAzNzYuNSA0ODguMjVdL1R5cGUvUGFnZS9QYXJl\n",
      "bnQgMiAwIFIgL0NvbnRlbnRzIDggMCBSIC9Bbm5vdHNbIDEwIDAgUiAgMjQgMCBSIF0+Pg0KZW5k\n",
      "b2JqDQo1IDAgb2JqDQo8PC9NYXR0ZVsgMCAwIDBdL0NvbG9yU3BhY2UvRGV2aWNlR3JheS9XaWR0\n",
      "aCA1MDIvQml0c1BlckNvbXBvbmVudCA4L0xlbmd0aCAzNDAvSGVpZ2h0IDY1MS9GaWx0ZXIvRmxh\n",
      "dGVEZWNvZGUvVHlwZS9YT2JqZWN0L1N1YnR5cGUvSW1hZ2U+PnN0cmVhbQ0KeJztwQENAAAAwqD+\n",
      "qW8ON6AAAAAAAAAAAAAAAAAAAAAAAAAAAAAAAAAAAAAAAAAAAAAAAAAAAAAAAAAAAAAAAAAAAAAA\n",
      "AAAAAAAAAAAAAAAAAAAAAAAAAAAAAAAAAAAAAAAAAAAAAAAAAAAAAAAAAAAAAAAAAAAAAAAAAAAA\n",
      "AAAAAAAAAAAAAAAAAAAAAAAAAAAAAAAAAAAAAAAAAAAAAAAAAAAAAAAAAAAAAAAAAAAAAAAAAAAA\n"
     ]
    }
   ],
   "source": [
    "Get-Content ..\\smtp\\alabank\\1534886499 -First 50"
   ]
  },
  {
   "cell_type": "code",
   "execution_count": 15,
   "metadata": {},
   "outputs": [
    {
     "name": "stdout",
     "output_type": "stream",
     "text": [
      "[+] Email part ID 0: None\n",
      "==> Content Type: multipart/mixed\n",
      "\n",
      "[+] Email part ID 1: None\n",
      "==> Content Length in bytes: 160\n",
      "==> Content Type: text/plain\n",
      "\n",
      "[+] Email part ID 2: TCinc_Invoice.pdf\n",
      "==> Content Length in bytes: 34776\n",
      "==> Content Type: application/pdf\n",
      "\n"
     ]
    }
   ],
   "source": [
    "python \"..\\..\\carve.py\" \"..\\smtp\\alabank\\1534886499\""
   ]
  },
  {
   "cell_type": "code",
   "execution_count": 16,
   "metadata": {},
   "outputs": [
    {
     "name": "stdout",
     "output_type": "stream",
     "text": [
      "[+] Email part ID 0: None\n",
      "==> Content Type: multipart/mixed\n",
      "\n",
      "[+] Email part ID 1: None\n",
      "==> Content Length in bytes: 160\n",
      "==> Content Type: text/plain\n",
      "\n",
      "[+] Email part ID 2: TCinc_Invoice.pdf\n",
      "==> Content Length in bytes: 34776\n",
      "==> Content Type: application/pdf\n",
      "\n",
      "Dumping email part ID 2 with filename TCinc_Invoice.pdf...\n",
      "Successfully dumped file TCinc_Invoice.pdf\n"
     ]
    }
   ],
   "source": [
    "python \"..\\..\\carve.py\" \"..\\smtp\\alabank\\1534886499\" 2"
   ]
  },
  {
   "cell_type": "code",
   "execution_count": 17,
   "metadata": {},
   "outputs": [
    {
     "name": "stdout",
     "output_type": "stream",
     "text": [
      "\n",
      "Algorithm       Hash                                                           \n",
      "---------       ----                                                           \n",
      "MD5             3955FDD379C2D4612B47E5819BDAFE0B                               \n",
      "\n",
      "\n"
     ]
    }
   ],
   "source": [
    "get-filehash TCinc_Invoice.pdf -algorithm md5"
   ]
  },
  {
   "cell_type": "markdown",
   "metadata": {},
   "source": [
    "#### Answer: 3955FDD379C2D4612B47E5819BDAFE0B"
   ]
  },
  {
   "cell_type": "markdown",
   "metadata": {},
   "source": [
    "## <font color=red>Tartalo 6</font>\n",
    "\n",
    "What is the md5sum of the file downloaded when Amaya clicked on the link in the PDF?\n",
    "\n",
    "### Solution:\n",
    "Due to the limitations of tshark, for this question, Wireshark will be used.\n",
    "\n",
    "In Tartalo 3, the merged pcap file **08-21-2018.pcap** was investigated in tshark. Use this pcap again and filter by IP and the http protocol with the following command: **ip.addr == 12.33.55.12 && http**. From Tartalo 3, the request of interest was http://12.33.55.12/login.jar.\n",
    "\n",
    "![Tar](pics/Tartalo19.png)\n",
    "\n",
    "In WireShark, go to follow the http stream of the request of interest.\n",
    "\n",
    "![tar](pics/Tartalo32.png)\n",
    "\n",
    "Export the object by clicking on it then clicking `save`:\n",
    "\n",
    "![tar](pics/Tartalo33.png)\n",
    "\n",
    "Again, use the Powershell `get-filehash` command on the login.jar file."
   ]
  },
  {
   "cell_type": "code",
   "execution_count": 1,
   "metadata": {},
   "outputs": [
    {
     "name": "stdout",
     "output_type": "stream",
     "text": [
      "\n",
      "Algorithm       Hash                                                           \n",
      "---------       ----                                                           \n",
      "MD5             30FD9A333080A21A46F9E96BC164AE28                               \n",
      "\n",
      "\n"
     ]
    }
   ],
   "source": [
    "get-filehash .\\login.jar -algorithm md5"
   ]
  },
  {
   "cell_type": "markdown",
   "metadata": {},
   "source": [
    "#### Answer: 30fd9a333080a21a46f9e96bc164ae28"
   ]
  },
  {
   "cell_type": "markdown",
   "metadata": {},
   "source": [
    "## <font color=red>Tartalo 7</font>\n",
    "\n",
    "Try to analyze the malware that Amaya downloaded from the PDF. How does the malware encode strings?\n",
    "\n",
    "### Solution:\n",
    "\n",
    "Open the **login.jar** file in jd-gui.\n",
    "\n",
    "![tar](pics/Tartalo35.png)\n",
    "\n",
    "Looking at the file, notice the **DataExtractor.class**. Examining the class further, the function `public static String decryptString(String input, String key)` is used to decrypt strings and within this function `Base64.getDecoder()` is used. It is assumed that the malware encodes strings in base64.\n",
    "\n",
    "![tar](pics/Tartalo36.png)\n",
    "\n",
    "#### Answer: base64"
   ]
  },
  {
   "cell_type": "markdown",
   "metadata": {},
   "source": [
    "## <font color=red>Tartalo 8</font>\n",
    "\n",
    "We were able to get a recompiled version of the jar file. What is the key used in the repeating xor?\n",
    "\n",
    "### Solution:\n",
    "\n",
    "Download the recompiled jar file given. Open the jar file in jd_gui.\n",
    "\n",
    "![tar](pics/Tartalo38.png)\n",
    "\n",
    "Within jd_gui there are several classes in this program. In opening up the classes to examine their purpose, notice that the variable `k` is being referenced several times. In opening the **DataExtractor.class** notice that the variable `k = \"cat\"` is initalized. This variable is used throughout the DataExtractor.class as well as other classes. Therefore, is is assumed the key is **cat**.\n",
    "\n",
    "![tar](pics/Tartalo39.png)\n",
    "\n",
    "#### Answer: cat"
   ]
  },
  {
   "cell_type": "markdown",
   "metadata": {},
   "source": [
    "## <font color=red>Tartalo 9</font>\n",
    "\n",
    "What is the name of the unblurred version of the quote that gets opened when the Java code is run? Use the .jar file from Tartalo 8.\n",
    "\n",
    "### Solution:\n",
    "\n",
    "Continue in jd_gui with the recompiled jar file.\n",
    "\n",
    "![tar](pics/Tartalo38.png)\n",
    "\n",
    "Looking around the program, notice that in **x.class** the program is writing a file to the disk referenced in the string variable **unencrypted** as **Ng8RDQIGGhEABgUrKg8CDAgXBk8EBwc=**. It first unencrypts it using the DataExtracor class and then writes it to disk. \n",
    "\n",
    "![tar](pics/Tartalo41.png)\n",
    "\n",
    "Due to the format of the encrypted string as base64, it can be decoded from base64 then xor'd using the key from **tartalo_8** (CyberChef is used in screenshot below). The decoded string is Unencrypted_Invoice.pdf \n",
    "\n",
    "![tar](pics/Tartalo43.png)\n",
    "\n",
    "#### Answer: Unencrypted_Invoice.pdf"
   ]
  },
  {
   "cell_type": "markdown",
   "metadata": {},
   "source": [
    "## <font color=red>Tartalo 10</font>\n",
    "\n",
    "What username is used on the site to host files downloaded by this malware? Use the .jar file from Tartalo 8\n",
    "\n",
    "### Solution:\n",
    "\n",
    "Continue in jd_gui with the recompiled jar file.\n",
    "\n",
    "![tar](pics/Tartalo38.png)\n",
    "\n",
    "Looking through the encoded there is a string calleds picloc in **dataextractor.class**. \n",
    "\n",
    "![tar](pics/Tartalo44.png)\n",
    "\n",
    "This string leads to a couple different strings but one big encoded string is shown.\n",
    "\n",
    "![tar](pics/Tartalo45.png)\n",
    "\n",
    "Use CyberChef and decode with base64 and then xor using the key from **tartalo_8**.\n",
    "\n",
    "![tar](pics/Tartalo47.png)\n",
    "\n",
    "#### Answer: johnnywrightfoot12"
   ]
  },
  {
   "cell_type": "markdown",
   "metadata": {},
   "source": [
    "## <font color=red>Tartalo 11</font>\n",
    "\n",
    "What is the file extension of the files downloaded by this malware to figure out where to exfiltrate data? Use the .jar file from Tartalo 8\n",
    "\n",
    "### Solution:\n",
    "\n",
    "Continue in jd_gui with the recompiled jar file.\n",
    "\n",
    "![tar](pics/Tartalo38.png)\n",
    "\n",
    "Look through the encoded strings and you'll come across a string called picloc in **dataextractor.class**. \n",
    "\n",
    "![tar](pics/Tartalo44.png)\n",
    "\n",
    "The second part of the string give a hint because it leads to pictureLocator. After that notice another encoded string **TQsEBgY=**.\n",
    "\n",
    "![tar](pics/Tartalo48.png)\n",
    "\n",
    "Go to cyberchef and decode with base64 and then xor using the key from **tartalo_8**. The string is .jpeg.\n",
    "\n",
    "![tar](pics/Tartalo51.png)\n",
    "\n",
    "#### Answer: .jpeg"
   ]
  },
  {
   "cell_type": "markdown",
   "metadata": {},
   "source": [
    "## <font color=red>Tartalo 12</font>\n",
    "\n",
    "What is the name of the file downloaded by the malware that correctly contains information on where to exfiltrate data?\n",
    "\n",
    "### Solution:\n",
    "\n",
    "In Tartalo 6 the pcap **2018-08-21_12-18-14.pcap** was examined. The IP address used by the malware in Tartolo 3 can help refine the results and because the question is asking about a downloaded file it is assumed that it is a GET request. With that knowledge, filter the results with **ip.addr == 12.33.55.12 && http.request.method == GET**.\n",
    "\n",
    "![tar](pics/Tartalo12-1.png)\n",
    "\n",
    "Select a packet then export HTTP objects (File>Export Objects>HTTP) and organize by Filename. A file named **0.jpeg** has a hostname of **tartalophotos.com**. Select the **0.jpeg** file and save it.\n",
    "\n",
    "![tar](pics/Tartalo12-2.PNG)\n",
    "\n",
    "Find the saved **0.jpeg** file. Right click and select **properties** then **details**. Locate the copyright field and notice that a string of text is placed there.\n",
    "\n",
    "![tar](pics/Tartalo12-3.png)\n",
    "\n",
    "This text is most likely base64 encoded because of the **==** at the end. Copy this string and using CyberChef bake it with a base64 recipe. The output doesn't make any sense. \n",
    "\n",
    "![tar](pics/Tartalo12-4.png)\n",
    "\n",
    "The xor key of **cat** in Tartalo 8 needs to be used. In CyberChef bake the string with base64 and xor it with a key of **cat**. The output is then **52.95.251.155/upload_file**. This looks like the address of where to exfiltrate data. It is assumed that **0.jpeg** is the answer. \n",
    "\n",
    "![tar](pics/Tartalo12-5.png)\n",
    "\n",
    "\n",
    "#### Answer: 0.jpeg"
   ]
  },
  {
   "cell_type": "markdown",
   "metadata": {},
   "source": [
    "## <font color=red>Tartalo 13</font>\n",
    "\n",
    "What is the field name of either of the two fields which contains the location to exfiltrate data to? Use the .jar file from Tartalo 8.\n",
    "\n",
    "### Solution:\n",
    "\n",
    "Since 0.jpeg is the file that contains the information on where to exfiltrate, look at what the jar files are doing after downloading this jpeg. Start by examining the different classes. \n",
    "\n",
    "![tar](pics/Tartalo38.png)\n",
    "\n",
    "Notice that in the **ExifExtractor.class**, it has the function **ipExtract**.\n",
    "\n",
    "![tar](pics/Tartalo57.png)\n",
    "\n",
    "Looking at that class, there are two encoded strings. \n",
    "\n",
    "![tar](pics/Tartalo58.png)\n",
    "\n",
    "Once decoded in CyberChef, it is **Co** and **(c)**. This leads to the assumption that the copyright field is used. Looking at the copyright details of **0.jpeg** is a good place to start.\n",
    "\n",
    "![tar](pics/Tartalo59.png)\n",
    "\n",
    "Locate the **0.jpeg** file from Tartalo 12 and **right click>Properties>Details**. Notice that the copyright field has the **(c)** copyright symbol that was decoded above. It is assumed that the answer is Copyright.\n",
    "\n",
    "![tar](pics/Tartalo12-3.png)\n",
    "\n",
    "\n",
    "#### Answer: Copyright"
   ]
  },
  {
   "cell_type": "markdown",
   "metadata": {},
   "source": [
    "## <font color=red>Tartalo 14</font>\n",
    "\n",
    "What is the endpoint of where the malware ex-filtrated data?\n",
    "\n",
    "### Solution:\n",
    "\n",
    "In **Tartalo 12**, an encoded string was found, use CyberChef to decode with base64 and then xor with the key of cat. The malware exfiltrated the data to **52.95.251.155/upload_file**.\n",
    "\n",
    "![tar](pics/Tartalo12-5.png)\n",
    "\n",
    "\n",
    "#### Answer: 52.95.251.155/upload_file"
   ]
  },
  {
   "cell_type": "markdown",
   "metadata": {},
   "source": [
    "\n",
    "## <font color=red>Tartalo 15</font>\n",
    "\n",
    "What is the md5sum of one of the archives that was ex-filtrated?\n",
    "\n",
    "### Solution:\n",
    "\n",
    "Knowing that **0.jpeg** came from the pcap file **2018-08-21_12-18-14.pcap**, it is assumed that the malware exfiltrated the data after this time. Open the **2018-08-21_12-18-14.pcap** in WireShark and merge the next three pcaps (encompassing the remainder of 8-21 and all of 8-22) into one pcap file.\n",
    "\n",
    "![tar](pics/Tartalo15-1.png)\n",
    "\n",
    "From Tartalo 14 we know the IP address of where the malware uploads the payload. Filter the merged pcap file with **ip.addr == 52.95.251.155 && http.request.method == POST**. \n",
    "\n",
    "![Heren](pics/Tartalo63.png)\n",
    "\n",
    "Select the second packet, **774506**, click the **MIME Multipart Media Encapsulation** drop down, then the **Encapsulated multipart part** drop down, and finally the **media type** drop down. Under **media type** right click and select **Export Packet Bytes...**. \n",
    "\n",
    "![Heren](pics/Tartalo64.png)\n",
    "\n",
    "Run md5sum on the file using Powershell `get-filehash [directory] -algorithm md5` and the answer is **6ab16a8b2fd4c035a4b4f81a8c94253f**.\n",
    "\n",
    "\n",
    "#### Answer: 6ab16a8b2f4c035a4b4f81a8c94253f"
   ]
  }
 ],
 "metadata": {
  "kernelspec": {
   "display_name": "PowerShell",
   "language": "powershell",
   "name": "powershell"
  },
  "language_info": {
   "codemirror_mode": "shell",
   "file_extension": ".ps1",
   "mimetype": "text/x-sh",
   "name": "powershell"
  }
 },
 "nbformat": 4,
 "nbformat_minor": 2
}
