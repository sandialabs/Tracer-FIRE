{
 "cells": [
  {
   "cell_type": "markdown",
   "metadata": {},
   "source": [
    "# <span style=\"font-family:Papyrus; font-size:4em; color:#FF33D9;\">Resources</span>"
   ]
  },
  {
   "cell_type": "markdown",
   "metadata": {},
   "source": [
    "# 1) Download Autopsy: \n",
    "\n",
    "<a href=\"https://www.autopsy.com/download/\" style=\"color:#FF33D9\">https://www.autopsy.com/download/</a>\n",
    "        (The write-up uses Autopsy 4.8.0)\n",
    "        \n",
    "# 2) Download IDA Pro Free: \n",
    "\n",
    "<a href=\"https://www.hex-rays.com/products/ida/support/download.shtml\" style=\"color:#FF33D9\">https://www.hex-rays.com/products/ida/support/download.shtml</a>\n",
    "        (The write-up uses IDA Pro Free 5.0)\n",
    "        \n",
    "# 3) Download Wireshark: \n",
    "\n",
    "<a href=\"https://www.wireshark.org/download.html\" style=\"color:#FF33D9\">https://www.wireshark.org/download.html</a>\n",
    "        (The write-up uses Wireshark 3.0.2.0)\n",
    "        \n",
    "# 4) Download Sublime Text: \n",
    "\n",
    "<a href=\"https://www.sublimetext.com/3\" style=\"color:#FF33D9\">https://www.sublimetext.com/3</a>\n",
    "        (The write-up uses Sublime Text 3)\n",
    "        \n",
    "# 6) CyberChef: \n",
    "\n",
    "<a href=\"https://gchq.github.io/CyberChef/\" style=\"color:#FF33D9\">https://gchq.github.io/CyberChef/</a>\n",
    "        \n",
    "        \n",
    "# 7) Convert Base64 to PNG: \n",
    "\n",
    "<a href=\"https://onlinepngtools.com/convert-base64-to-png\" style=\"color:#FF33D9\">https://onlinepngtools.com/convert-base64-to-png</a> \n",
    "\n",
    "# 8) Decompile Jar File: \n",
    "\n",
    "<a href=\"http://www.javadecompilers.com/\" style=\"color:#FF33D9\">http://www.javadecompilers.com/</a> \n",
    "\n",
    "# 9) IDA Videos: \n",
    "\n",
    "<a href=\"Part 1: https://www.youtube.com/watch?v=vb18UVF4a_o\" style=\"color:#FF33D9\">https://www.youtube.com/watch?v=vb18UVF4a_o</a>\n",
    "\n",
    "<a href=\"Part 2: https://www.youtube.com/watch?v=tVvYsFStPTc\" style=\"color:#FF33D9\">https://www.youtube.com/watch?v=tVvYsFStPTc</a>\n",
    "\n",
    "<a href=\"Part 3: https://www.youtube.com/watch?v=kXSW4i0En_Y\" style=\"color:#FF33D9\">https://www.youtube.com/watch?v=kXSW4i0En_Y</a>\n",
    "\n",
    "<a href=\"Part 4: https://www.youtube.com/watch?v=rlhh4WiXyw0\" style=\"color:#FF33D9\">https://www.youtube.com/watch?v=rlhh4WiXyw0</a>\n",
    "\n",
    "# 10) Download Exiftool: \n",
    "\n",
    "<a href=\"https://www.sno.phy.queensu.ca/~phil/exiftool/install.html\" style=\"color:#FF33D9\">https://www.sno.phy.queensu.ca/~phil/exiftool/install.html</a>\n",
    "\n",
    "# 11) Volatily Commands Cheat  \n",
    "\n",
    "<a href=\"https://digital-forensics.sans.org/media/volatility-memory-forensics-cheat-sheet.pdf\" style=\"color:#FF33D9\">https://digital-forensics.sans.org/media/volatility-memory-forensics-cheat-sheet.pdf</a>\n",
    "\n",
    "# 11) Volatily Commands Cheat  \n",
    "\n",
    "<a href=\"https://sourceforge.net/projects/pyinstallerextractor/\" style=\"color:#FF33D9\">https://sourceforge.net/projects/pyinstallerextractor/</a>\n",
    "\n",
    "\n"
   ]
  }
 ],
 "metadata": {
  "kernelspec": {
   "display_name": "Python 3",
   "language": "python",
   "name": "python3"
  },
  "language_info": {
   "codemirror_mode": {
    "name": "ipython",
    "version": 3
   },
   "file_extension": ".py",
   "mimetype": "text/x-python",
   "name": "python",
   "nbconvert_exporter": "python",
   "pygments_lexer": "ipython3",
   "version": "3.7.3"
  }
 },
 "nbformat": 4,
 "nbformat_minor": 2
}
