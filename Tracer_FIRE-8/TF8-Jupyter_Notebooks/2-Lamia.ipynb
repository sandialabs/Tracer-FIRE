{
 "cells": [
  {
   "cell_type": "markdown",
   "metadata": {},
   "source": [
    "# <span style=\"font-family:Papyrus; font-size:4em; color:DarkBlue;\">Lamia</span>"
   ]
  },
  {
   "cell_type": "markdown",
   "metadata": {},
   "source": [
    "## **Things to Remember:**\n",
    "\n",
    "1) Read the getting started before reading the write-up, somethings are explained there that won't be covered.\n",
    "\n",
    "2) Go to the Resource page/pdf to see all of the websites use and programs."
   ]
  },
  {
   "cell_type": "markdown",
   "metadata": {},
   "source": [
    "## <font color= DarkBlue>Lamia 1</font>\n",
    "\n",
    "Amaya was complaining about weird browser behavior after installing a chrome-extension from a friend. Logs show suspicious web traffic originated from Amaya's PC starting on August 7th, 2018 around 2:40 pm.\n",
    "\n",
    "What is the name of her suspicious chrome extension?\n",
    "\n",
    "\n",
    "### Solution:\n",
    "\n",
    "Two important facts are known from the question. First, that Amaya's PC had suspicious web traffic on August 7th, 2018 at 2:40 PM. Second, that Amaya had weird browser behavior after installing a chrome-extension.\n",
    "\n",
    "Start your investigation in Amaya's smtp files in the the artifacts folder. From the two important facts, start by looking for smtp files around August 7th, 2018 at 2:40 PM. The smtp file titles are in Epoch time and will have to be converted to PDT. The corresponding smtp file is titled **1533678455**."
   ]
  },
  {
   "cell_type": "markdown",
   "metadata": {},
   "source": [
    "Convert Epoch time to PDT\n",
    "in git bash window:\n",
    "date -d @1533678455"
   ]
  },
  {
   "cell_type": "code",
   "execution_count": 12,
   "metadata": {},
   "outputs": [
    {
     "name": "stdout",
     "output_type": "stream",
     "text": [
      "Return-Path: <herenav@nimbus.net>\n",
      "Delivered-To: alabank@orko.net\n",
      "Received: from mail.nimbus.net (unknown [52.95.251.10])\n",
      "\tby mail.orko.net (Postfix) with ESMTPS id CDF7C181DC9\n",
      "\tfor <alabank@orko.net>; Tue,  7 Aug 2018 14:47:34 -0700 (PDT)\n",
      "Received: from _ (localhost [127.0.0.1])\n",
      "\tby mail.nimbus.net (Postfix) with ESMTPSA id 1282917F731\n",
      "\tfor <alabank@orko.net>; Tue,  7 Aug 2018 17:46:57 -0400 (EDT)\n",
      "MIME-Version: 1.0\n",
      "Content-Type: text/plain; charset=US-ASCII;\n",
      " format=flowed\n",
      "Content-Transfer-Encoding: 7bit\n",
      "Date: Tue, 07 Aug 2018 17:46:57 -0400\n",
      "From: herenav@nimbus.net\n",
      "To: alabank@orko.net\n",
      "Subject: Great chrome extension\n",
      "Message-ID: <2eeeb4cd42182f5a699e9b00f9b2a24c@nimbus.net>\n",
      "X-Sender: herenav@nimbus.net\n",
      "User-Agent: Roundcube Webmail\n",
      "\n",
      "Hi honey!\n",
      "\n",
      "I hope that you didn't have any troubles installing the super kewl \n",
      "chrome extension I gave you. It will not only improve security for your \n",
      "browser, but is also great for personal entertainment. Let me know what \n",
      "you think of it!\n",
      "\n",
      "Love,\n",
      "Jerek\n"
     ]
    }
   ],
   "source": [
    "Get-Content \"..\\..\\Artifacts\\smtp\\alabank\\1533678455\""
   ]
  },
  {
   "cell_type": "code",
   "execution_count": 2,
   "metadata": {},
   "outputs": [
    {
     "name": "stdout",
     "output_type": "stream",
     "text": [
      "Return-Path: <herenav@nimbus.net>\n",
      "Delivered-To: alabank@orko.net\n",
      "Received: from mail.nimbus.net (unknown [52.95.251.10])\n",
      "\tby mail.orko.net (Postfix) with ESMTPS id CDF7C181DC9\n",
      "\tfor <alabank@orko.net>; Tue,  7 Aug 2018 14:47:34 -0700 (PDT)\n",
      "Received: from _ (localhost [127.0.0.1])\n",
      "\tby mail.nimbus.net (Postfix) with ESMTPSA id 1282917F731\n",
      "\tfor <alabank@orko.net>; Tue,  7 Aug 2018 17:46:57 -0400 (EDT)\n",
      "MIME-Version: 1.0\n",
      "Content-Type: text/plain; charset=US-ASCII;\n",
      " format=flowed\n",
      "Content-Transfer-Encoding: 7bit\n",
      "Date: Tue, 07 Aug 2018 17:46:57 -0400\n",
      "From: herenav@nimbus.net\n",
      "To: alabank@orko.net\n",
      "Subject: Great chrome extension\n",
      "Message-ID: <2eeeb4cd42182f5a699e9b00f9b2a24c@nimbus.net>\n",
      "X-Sender: herenav@nimbus.net\n",
      "User-Agent: Roundcube Webmail\n",
      "\n",
      "Hi honey!\n",
      "\n",
      "I hope that you didn't have any troubles installing the super kewl \n",
      "chrome extension I gave you. It will not only improve security for your \n",
      "browser, but is also great for personal entertainment. Let me know what \n",
      "you think of it!\n",
      "\n",
      "Love,\n",
      "Jerek\n"
     ]
    }
   ],
   "source": [
    "Get-Content \"/Users/tracerfire/Desktop/Artifacts/smtp/alabank/1533678455\" "
   ]
  },
  {
   "cell_type": "markdown",
   "metadata": {},
   "source": [
    "From this email you are able to determine that the chrome extension originated from Jerek. \n",
    "\n",
    "Examine the next smtp file **1533678932**."
   ]
  },
  {
   "cell_type": "code",
   "execution_count": 13,
   "metadata": {},
   "outputs": [
    {
     "name": "stdout",
     "output_type": "stream",
     "text": [
      "Return-Path: <herenav@nimbus.net>\n",
      "Delivered-To: alabank@orko.net\n",
      "Received: from mail.nimbus.net (unknown [52.95.251.10])\n",
      "\tby mail.orko.net (Postfix) with ESMTPS id 3719217EB8F\n",
      "\tfor <alabank@orko.net>; Tue,  7 Aug 2018 14:55:32 -0700 (PDT)\n",
      "Received: from _ (localhost [127.0.0.1])\n",
      "\tby mail.nimbus.net (Postfix) with ESMTPSA id 7EE48181D05\n",
      "\tfor <alabank@orko.net>; Tue,  7 Aug 2018 17:55:01 -0400 (EDT)\n",
      "MIME-Version: 1.0\n",
      "Content-Type: text/plain; charset=US-ASCII;\n",
      " format=flowed\n",
      "Content-Transfer-Encoding: 7bit\n",
      "Date: Tue, 07 Aug 2018 17:55:01 -0400\n",
      "From: herenav@nimbus.net\n",
      "To: alabank@orko.net\n",
      "Subject: Re: Great chrome extension\n",
      "In-Reply-To: <06a9e386f5b5dd7e5987c8e9563c54be@orko.net>\n",
      "References: <2eeeb4cd42182f5a699e9b00f9b2a24c@nimbus.net>\n",
      " <06a9e386f5b5dd7e5987c8e9563c54be@orko.net>\n",
      "Message-ID: <5415d37494217412c3a4b3119bdcf803@nimbus.net>\n",
      "X-Sender: herenav@nimbus.net\n",
      "User-Agent: Roundcube Webmail\n",
      "\n",
      "On 2018-08-07 17:54, alabank@orko.net wrote:\n",
      "> On 2018-08-07 14:46, herenav@nimbus.net wrote:\n",
      ">> Hi honey!\n",
      ">> \n",
      ">> I hope that you didn't have any troubles installing the super kewl\n",
      ">> chrome extension I gave you. It will not only improve security for\n",
      ">> your browser, but is also great for personal entertainment. Let me\n",
      ">> know what you think of it!\n",
      ">> \n",
      ">> Love,\n",
      ">> Jerek\n",
      "> Hi Jerek,\n",
      "> \n",
      "> I don't think the extension is really working properly.\n",
      "\n",
      "Trust me. It's working perfectly...\n"
     ]
    }
   ],
   "source": [
    "Get-Content \"..\\..\\Artifacts\\smtp\\alabank\\1533678932\" "
   ]
  },
  {
   "cell_type": "markdown",
   "metadata": {},
   "source": [
    "Jerek notes that the chrome extension is \"working perfectly\". \n",
    "\n",
    "\n",
    "\n",
    "This question provides two important pieces of information. First, the traffic originated on Amaya's PC on August 7th, 2018 at 2:40PM. The\n",
    "\n",
    "Go to the **Artifacts** folder, within find the **smtp** folder, this is where all the emails are contained. Then you wanna choose Amaya's computer, **alabank**. (Desktop\\Artifacts\\smtp\\alabank)\n",
    "\n",
    "The question gives you the time August 7th, 2018 around 2:40 pm. You want to look for the files around this time. (You have to open them to look for the date and time. Use wordpad if available, it'll format the files to look more like an email.)\n",
    "\n",
    "Two emails mention a chrome extension and Amaya is talking to someone named Jerek. The two emails are **1533678455** and **1533678932**. None of the emails actually have the chrome extension. \n",
    "\n",
    "\n",
    "![Lamia](pics/Lamia1.png)\n",
    "\n",
    "***\n",
    "\n",
    "![Lamia](pics/Lamia2.png)\n",
    "\n",
    "Take a look at Amaya's disk, open Autopsy (should be on the desktop).  \n",
    "\n",
    "    Follow the steps to use Autopsy:\n",
    "    \n",
    "\n",
    "Open Autopsy and create **New Case**.\n",
    "\n",
    "![Lamia](pics/Lamia3.png)\n",
    "\n",
    "\n",
    "\n",
    "Give the case a name (ie. **AmayaDisk_TF8**).\n",
    "\n",
    "Change the base directory, create a new folder to add all of the Autopsy files in the Artifacts folder (**C:\\Users\\tracerfire\\Desktop\\Artifacts\\Autopsy_TF8**).\n",
    "\n",
    "For the optional information, you can provide the information or you can skip it by clicking **Finish**.\n",
    "\n",
    "![Lamia](pics/Lamia4.png)\n",
    "\n",
    "\n",
    "Make sure that the type of data source is a **Disk Image or VM File**.\n",
    "\n",
    "![Lamia](pics/Lamia5.png)\n",
    "\n",
    "\n",
    "Select Amaya's Disk, **PC-2-08-14-18-END.vhd**\n",
    "(**C:\\Users\\tracerfire\\Desktop\\Artifacts\\disk\\PC-2-08-14-18-END.vhd**)\n",
    "\n",
    "![Lamia](pics/Lamia6.png)\n",
    "\n",
    "\n",
    "This page is used to configure the ingest modules, Click **Select All** then proceed to the next page.\n",
    "\n",
    "![Lamia](pics/Lamia7.png)\n",
    "\n",
    "\n",
    "Click **Finish** to finish the set up process.\n",
    "\n",
    "![Lamia](pics/Lamia8.png)\n",
    "\n",
    "\n",
    "Look at the bottom-right of the autopsy screen and there will be a process bar, that is going through all the disk files and classifing them.\n",
    "\n",
    "**Note:** Do not do anything until Autopsy loads completely, or you will not be able to see everything.\n",
    "\n",
    "![Lamia](pics/Lamia9.png)\n",
    "\n",
    "\n",
    "Once you are able to see everything, search in the keyword search for **Jerek**. Five files will come up, look through those.\n",
    "\n",
    "![Lamia](pics/Lamia10.png)\n",
    "\n",
    "\n",
    "In the **Instructions.txt**, you see that Jerek tells Amaya to download a folder named **CATS**\n",
    "\n",
    "![Lamia](pics/Lamia11.png)\n",
    "\n",
    "\n",
    "Look at Amaya's Documents and to find the **CATS** folder by following this file path\n",
    "\n",
    "![Lamia](pics/Lamia12.png)\n",
    "\n",
    "***\n",
    "\n",
    "![Lamia](pics/Lamia13.png)\n",
    "\n",
    "\n",
    "The **CATS** folder is found in Amaya's Documents inside the folder **from Jerrek**\n",
    "\n",
    "![Lamia](pics/Lamia14.png)\n",
    "\n",
    "\n",
    "Inside the CATS folder, there are several files.\n",
    "\n",
    "![Lamia](pics/Lamia15.png)\n",
    "\n",
    "\n",
    "Click on **manifest.json** then click on the **Strings** tab and read through the indexed text. It gives you the name of the extension: **\"We Love Cats!\"**\n",
    "\n",
    "![Lamia](pics/Lamia16.png)\n",
    "\n",
    "#### Answer: We Love Cats!\n",
    "\n",
    "\n"
   ]
  },
  {
   "cell_type": "markdown",
   "metadata": {},
   "source": [
    "## <font color= DarkBlue>Lamia 2 </font>\n",
    "\n",
    "What is the external ip the extension communicates with? \n",
    "Hint: Origin: chrome-extension\n",
    "\n",
    "### Solution:\n",
    "\n",
    "Continue from Lamia 1, in the **CATS** folder.\n",
    "\n",
    "![Lamia](pics/Lamia15.png)\n",
    "\n",
    "Look through the other files and their indexed text and metadata. In **background.js indexed text**, click on the **Strings** tab and find the **var server_location** it shows the external IP of the extension **12.33.44.77**.\n",
    "\n",
    "![Lamia](pics/Lamia17.png)\n",
    "\n",
    "#### Answer: 12.33.44.77\n"
   ]
  },
  {
   "cell_type": "markdown",
   "metadata": {},
   "source": [
    "## <font color= DarkBlue>Lamia 3</font>\n",
    "\n",
    "What protocol is the extension using to communicate with the external server?\n",
    "\n",
    "### Solution:\n",
    "\n",
    "In the same file as above, look for **var xhr**. Once you find it in the indexed text data, it gives you **XMLHttpRequest**, meaning the protocol is **HTTP**.\n",
    "\n",
    "![Lamia](pics/Lamia18.png)\n",
    "\n",
    "#### Answer: http\n"
   ]
  },
  {
   "cell_type": "markdown",
   "metadata": {},
   "source": [
    "## <font color= DarkBlue>Lamia 4 </font>\n",
    "\n",
    "What endpoint and request is the malware using for communication with the foreign server?\n",
    "\n",
    "### Solution\n",
    "\n",
    "Go to pcaps folder (Desktop\\Artifacts\\pcaps) and find the one that is on the date and time of the web traffic: **2018-08-07_14-42-02.pcap**. \n",
    "\n",
    "Open the pcap on Wireshark, filter for the IP address and protol **ip.addr == 12.33.44.77 && http** (found in the answers above)\n",
    "\n",
    "![Lamia](pics/Lamia19.png)\n",
    "\n",
    "Look at the different packets, Amaya's computer is reaching out to the server IP address and its using **POST /api**\n",
    "\n",
    "![Lamia](pics/Lamia20.png)\n",
    "\n",
    "#### Answer: POST /api"
   ]
  },
  {
   "cell_type": "code",
   "execution_count": 92,
   "metadata": {
    "scrolled": true
   },
   "outputs": [
    {
     "name": "stdout",
     "output_type": "stream",
     "text": [
      "Get-Content \"C:\\Users\\tracerfire\\Desktop\\Artifacts\\pcaps\\output1.txt\" -First 10\n",
      "57095 373.068231 192.168.1.11 → 12.33.44.77  HTTP 320 GET / HTTP/1.1 \n",
      "57098 373.070507  12.33.44.77 → 192.168.1.11 HTTP 204 HTTP/1.0 200 OK  (text/html)\n",
      "57383 376.131364 192.168.1.11 → 12.33.44.77  HTTP 1262 POST /api HTTP/1.1  (text/plain)\n",
      "57387 376.133919  12.33.44.77 → 192.168.1.11 HTTP 204 HTTP/1.0 200 OK  (application/json)\n",
      "57414 377.738232 192.168.1.11 → 12.33.44.77  HTTP 1406 POST /api HTTP/1.1  (text/plain)\n",
      "57419 377.740271  12.33.44.77 → 192.168.1.11 HTTP 204 HTTP/1.0 200 OK  (application/json)\n",
      "58266 390.368447 192.168.1.11 → 12.33.44.77  HTTP 126 POST /api HTTP/1.1  (text/plain)\n",
      "58269 390.372147  12.33.44.77 → 192.168.1.11 HTTP 204 HTTP/1.0 200 OK  (application/json)\n",
      "58626 392.217784 192.168.1.11 → 12.33.44.77  HTTP 874 POST /api HTTP/1.1  (text/plain)\n",
      "58629 392.219997  12.33.44.77 → 192.168.1.11 HTTP 204 HTTP/1.0 200 OK  (application/json)\n",
      "\n",
      "Set-Alias -Name tshark -Value \"C:\\Program Files\\Wireshark\\tshark.exe\"\n",
      "tshark -r \"C:\\Users\\tracerfire\\Desktop\\Artifacts\\pcaps\\2018-08-07_14-42-02.pcap\" -Y \"ip.addr == 12.33.44.77 && http\" > \"C:\\Users\\tracerfire\\Desktop\\Artifacts\\pcaps\\output1.txt\"\n"
     ]
    }
   ],
   "source": [
    "Set-Alias -Name tshark -Value \"C:\\Program Files\\Wireshark\\tshark.exe\"\n",
    "tshark -r \"C:\\Users\\tracerfire\\Desktop\\Artifacts\\pcaps\\2018-08-07_14-42-02.pcap\" -Y \"ip.addr == 12.33.44.77 && http\" > \"C:\\Users\\tracerfire\\Desktop\\Artifacts\\pcaps\\output1.txt\"\n",
    "Get-Content \"C:\\Users\\tracerfire\\Desktop\\Artifacts\\pcaps\\output1.txt\" -First 10"
   ]
  },
  {
   "cell_type": "markdown",
   "metadata": {},
   "source": [
    "## <font color = DarkBlue> Lamia 5 </font>\n",
    "\n",
    "Why do the packets have no discernible strings? Looks like its encoded! What encoding scheme is used to \"disguise\" the data?\n",
    "\n",
    "### Solution:\n",
    "\n",
    "Continuing from Lamia 4, in the same pcap **2018-08-07_14-42-02.pcap**. Click on one of the **POST /api** packets.\n",
    "Follow the packet by right clicking, follow, TCP stream. \n",
    "\n",
    "![Lamia](pics/Lamia21.png)\n",
    "\n",
    "This shows the discernible strings and from the way they look, we can infer that they are in **base 64**. Another thing that can tell you that it might be Base 64 is the equal sign(s) at the end.\n",
    "\n",
    "![Lamia](pics/Lamia22.png)\n",
    "\n",
    "To make sure it is base 64, you can decode using the website **CyberChef**, copy and paste the code from the image above.\n",
    "\n",
    "![Lamia](pics/Lamia23.png)\n",
    "\n",
    "#### Answer: base64"
   ]
  },
  {
   "cell_type": "markdown",
   "metadata": {},
   "source": [
    "## <font color = DarkBlue>Lamia 6 </font>\n",
    "\n",
    "What format is the malware using to store the data it is exfiltrating?\n",
    "\n",
    "### Solution:\n",
    "\n",
    "Looking at the packets in Wireshark, still in the same pcap, **2018-08-07_14-42-02.pcap** with the same filter. If you take a look at the traffic coming from the external IP, most of the packets say in the info **(application\\json)**. We can assume that **json** is the format.\n",
    "\n",
    "![Lamia](pics/Lamia24.png) \n",
    "\n",
    "#### Answer: json"
   ]
  },
  {
   "cell_type": "markdown",
   "metadata": {},
   "source": [
    "## <font color = DarkBlue>Lamia 7</font>\n",
    "\n",
    "From the data structure, what are the 4 types of data being exfiltrated? Enter the list as a comma seperated list in alphabetical order. Ex: a,b,c,d where a b c d are the types.\n",
    "\n",
    "### Solution: \n",
    "\n",
    "For this one, open Amaya's disk on Autopsy (from above). Go to back to Documents\\from Jerrek\\CATS. Click on **background.js**. In the **Strings** tab or in the **Indexed Text**, there are 4 **options for type**. The 4 types listed are **form, history, keylogger, screen_capture**\n",
    "\n",
    "![Lamia](pics/Lamia25.png)\n",
    "\n",
    "#### Answer: form, history, keylogger, screen_capture\n"
   ]
  },
  {
   "cell_type": "markdown",
   "metadata": {},
   "source": [
    "## <font color = DarkBlue> Lamia 8</font>\n",
    "\n",
    "What is the sha256 hash of the first screenshot exfiltrated by the extension? Hint: look for big POST packets.\n",
    "\n",
    "### Solution:\n",
    "\n",
    "Open wireshark and look at the pcaps file from above, **2018-08-07_14-42-02.pcap**. Filter the packet:\n",
    "**ip.addr == 12.33.44.77 && ip.src == 192.168.1.11** \n",
    "\n",
    "![Lamia](pics/lamia26a.png)\n",
    "\n",
    "Under **Transmission Control Protocol**, right click on **Stream Index** and **Apply as column**\n",
    "follow the TCP stream for stream 85 and copy the text underneath. \n",
    "\n",
    "![Lamia](pics/lamia27a.png)\n",
    "\n",
    "1. Convert the base64 into a picture,  base64 converter: **https://gchq.github.io/CyberChef/**\n",
    "\n",
    "\n",
    "![Lamia](pics/lamia28a.png)\n",
    "\n",
    "2. Copy the output into a web page\n",
    "\n",
    "![Lamia](pics/lamia29.png)\n",
    "\n",
    "\n",
    "3. Right click on page to save the image\n",
    "\n",
    "\n",
    "![Lamia](pics/lamia30.png)\n",
    "\n",
    "4. get the SHA256 from the image\n",
    "\n",
    "![Lamia](pics/lamia31.png)\n",
    "\n",
    "#### Answer: 142c0ae925ad52c720e34413266214ce851ff7836fe19bda85799447c84e204b\n",
    "\n"
   ]
  },
  {
   "cell_type": "code",
   "execution_count": null,
   "metadata": {},
   "outputs": [],
   "source": []
  }
 ],
 "metadata": {
  "kernelspec": {
   "display_name": "PowerShell",
   "language": "powershell",
   "name": "powershell"
  },
  "language_info": {
   "codemirror_mode": "shell",
   "file_extension": ".ps1",
   "mimetype": "text/x-sh",
   "name": "powershell"
  }
 },
 "nbformat": 4,
 "nbformat_minor": 2
}
